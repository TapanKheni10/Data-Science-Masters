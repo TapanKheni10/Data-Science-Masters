{
 "cells": [
  {
   "cell_type": "markdown",
   "id": "caa41a16-5862-4a12-aca9-1841cda8f2d1",
   "metadata": {},
   "source": [
    "1) What is an API? Give an example, where an API is used in real life.\n",
    "\n",
    " API is basically a set protocols or a intermediate environment which helps us while communicating in-between two homogeneous or hitrogeneous systems.\n",
    " Real world example,\n",
    "- If we are using GPAY in order to make a monitory transection then there exist a API which helps our GPAY application to connect with our respective bank applications because GPAY itself is not going to store any kind of money."
   ]
  },
  {
   "cell_type": "markdown",
   "id": "f2516ba9-d9bf-4e03-a819-f876b4b9aec5",
   "metadata": {},
   "source": [
    "2) Give advantages and disadvantages of using API.\n",
    "Advantages,\n",
    "- Wide reach\n",
    "- Efficiency\n",
    "- Promotes innovations \n",
    "- Future-ready\n",
    "- Integration and personalization\n",
    "\n",
    "Disadvantages,\n",
    "- APIs are fundamental to any business, and it is fundamental for organizations to implant secure API entryways inside the actual cloud. This implies utilizing Secure API Gateway advances which put security as a main concern."
   ]
  },
  {
   "cell_type": "markdown",
   "id": "fc9e347b-c641-41c7-af81-4259704fd44a",
   "metadata": {},
   "source": [
    "3) What is a Web API? Differentiate between API and Web API.\n",
    "\n",
    "- Web API is defined as a subset of API and is being used while we are communicating in-between two homogeneous or hitrogeneous systems through HTTP protocols.\n",
    "- Examples: Searching on Google, Login or Sign-in into G-mail.\n",
    "\n",
    "Difference between API and Web API:\n",
    "- as mentioned above a Web API is somewhat more likely/similar to a normal API.\n",
    "- Web API uses HTTP in order to established connection between two systems whereas a noraml API uses TCP, SMTP or HTTP to established connection."
   ]
  },
  {
   "cell_type": "markdown",
   "id": "8eb388ec-83a6-4760-a88a-ff17b5f3969c",
   "metadata": {},
   "source": [
    "4) Explain REST and SOAP Architecture. Mention shortcomings of SOAP.\n",
    "\n",
    "Both Architecture will help us to create an Web API.\n",
    "- we can make us of both of them for different purposes. REST Architecture is useful for factors such as simplicity, scalability and flexibility whereas SOAP Architecture is useful where Security is our major concern.\n",
    "- REST API is going to use HTTP whereas SOAP API is going to use TCP, SMTP.\n",
    "\n",
    "Shortcomings of SOAP,\n",
    "- SOAP is used only XML format data in web service, whereas JSON and other lightweight formats are not supported by it.\n",
    "- It is slow because it uses XML format, whereas the payload for a simple string message is large.\n",
    "- There are no security features in the SOAP specification."
   ]
  },
  {
   "cell_type": "markdown",
   "id": "09c4a686-2303-46bc-bbe4-341269fee2dd",
   "metadata": {},
   "source": [
    "5) Differentiate between REST and SOAP.\n",
    "- SOAP stands for Simple Object Access Protocol and REST stands for Representational State Transfer.\n",
    "- Since SOAP is a protocol, it follows a strict standard to allow communication between the client and the server whereas REST is an architectural style that doesn’t follow any strict standard but follows six constraints. Those constraints are – Uniform Interface, Client-Server, Stateless, Cacheable, Layered System, Code on Demand.\n",
    "- SOAP is difficult to implement and it requires more bandwidth whereas REST is easy to implement and requires less bandwidth such as smartphones.\n",
    "- SOAP cannot make use of REST since SOAP is a protocol without any architectural pattern. REST can make use of SOAP because it is an architectural pattern having protocol."
   ]
  },
  {
   "cell_type": "code",
   "execution_count": null,
   "id": "735429d8-8a56-47ce-935b-c79bf822d958",
   "metadata": {},
   "outputs": [],
   "source": []
  }
 ],
 "metadata": {
  "kernelspec": {
   "display_name": "Python 3 (ipykernel)",
   "language": "python",
   "name": "python3"
  },
  "language_info": {
   "codemirror_mode": {
    "name": "ipython",
    "version": 3
   },
   "file_extension": ".py",
   "mimetype": "text/x-python",
   "name": "python",
   "nbconvert_exporter": "python",
   "pygments_lexer": "ipython3",
   "version": "3.10.8"
  }
 },
 "nbformat": 4,
 "nbformat_minor": 5
}
