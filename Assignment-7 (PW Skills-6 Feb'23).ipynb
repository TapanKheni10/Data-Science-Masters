{
 "cells": [
  {
   "cell_type": "markdown",
   "id": "23aacc08-0c0b-4b32-a35d-79529c647439",
   "metadata": {},
   "source": [
    "### Create a function which will take a list as an argument and return the product of all the numbers after creating a flat list. Use the below-given list as an argument for your function."
   ]
  },
  {
   "cell_type": "code",
   "execution_count": 14,
   "id": "28d18abb-4ca2-4fbe-9299-5fa87d49eafc",
   "metadata": {},
   "outputs": [
    {
     "data": {
      "text/plain": [
       "[1,\n",
       " 2,\n",
       " 3,\n",
       " 4,\n",
       " 44,\n",
       " 55,\n",
       " 66,\n",
       " 34,\n",
       " 56,\n",
       " 78,\n",
       " 89,\n",
       " 34,\n",
       " 1,\n",
       " 2,\n",
       " 3,\n",
       " 1,\n",
       " 4,\n",
       " 34,\n",
       " 55,\n",
       " 67,\n",
       " 78,\n",
       " 89,\n",
       " 45,\n",
       " 22,\n",
       " 61,\n",
       " 34,\n",
       " 56]"
      ]
     },
     "execution_count": 14,
     "metadata": {},
     "output_type": "execute_result"
    }
   ],
   "source": [
    "list1 = [1,2,3,4, [44,55,66, True], False, (34,56,78,89,34), {1,2,3,3,2,1}, {1:34, \"key2\": [55, 67, 78, 89], 4: (45,\n",
    "22, 61, 34)}, [56, 'data science'], 'Machine Learning']\n",
    "\n",
    "from functools import reduce\n",
    "\n",
    "def flat_given_list(lst):\n",
    "    l = []\n",
    "    for sub_element in lst:\n",
    "        if type(sub_element) == list or type(sub_element) == tuple or type(sub_element) == set:\n",
    "            l.extend(sub_element)\n",
    "        elif type(sub_element) == dict:\n",
    "            l.extend(list(sub_element.keys()))\n",
    "            l.extend(list(sub_element.values()))\n",
    "        else:\n",
    "            l.append(sub_element)\n",
    "    return l\n",
    "def product_num(list1):\n",
    "    flattened_list = flat_given_list(list1)\n",
    "    new_flattened_list = list(filter(lambda x:type(x)==int or type(x)==float, flat_given_list(flattened_list)))\n",
    "\n",
    "    return reduce(lambda x,y:x*y, new_flattened_list)\n",
    "\n",
    "product_num(list1)\n"
   ]
  },
  {
   "cell_type": "markdown",
   "id": "4f958d30-6712-4b1a-a7d8-8c285d798cb6",
   "metadata": {},
   "source": [
    "### Write a python program for encrypting a message sent to you by your friend. The logic of encryption should be such that, for a the output should be z. For b, the output should be y. For c, the output should be x respectively. Also, the whitespace should be replaced with a dollar sign. Keep the punctuation marks unchanged."
   ]
  },
  {
   "cell_type": "code",
   "execution_count": 43,
   "id": "ec76358d-4689-43a4-bfab-fc79642198bc",
   "metadata": {},
   "outputs": [
    {
     "data": {
      "text/plain": [
       "'r$dzmg$gl$yvxlnv$z$wzgz$hxrvmgrhg.'"
      ]
     },
     "execution_count": 43,
     "metadata": {},
     "output_type": "execute_result"
    }
   ],
   "source": [
    "\n",
    "def encryption(normal_text):\n",
    "    list_alpha = ['a','b','c','d','e','f','g','h','i','j','k','l','m','n','o','p','q','r','s','t','u','v','w','x','y','z']\n",
    "    encrypted_text = \"\"\n",
    "    for x in normal_text.lower():\n",
    "        if x in list_alpha:\n",
    "            curr_inx = list_alpha.index(x)\n",
    "            new_char = list_alpha[-1-curr_inx]\n",
    "            encrypted_text += new_char\n",
    "        elif x == \" \":\n",
    "            encrypted_text += '$'\n",
    "        else:\n",
    "            encrypted_text += x\n",
    "    \n",
    "    return encrypted_text\n",
    "\n",
    "text = \"I want to become a Data Scientist.\"\n",
    "# text = \"r$dzmg$gl$yvxlnv$z$wzgz$hxrvmgrhg.\"\n",
    "encryption(text)\n",
    "\n",
    "# Same code can be use for decryption just by swapping the condition related to \" \" and \"$\". \n"
   ]
  },
  {
   "cell_type": "code",
   "execution_count": 5,
   "id": "8663b6f5-f7b0-4f83-988f-8d456be14679",
   "metadata": {},
   "outputs": [
    {
     "ename": "SyntaxError",
     "evalue": "invalid syntax (2655483309.py, line 2)",
     "output_type": "error",
     "traceback": [
      "\u001b[0;36m  Cell \u001b[0;32mIn[5], line 2\u001b[0;36m\u001b[0m\n\u001b[0;31m    [i if type(i)==int else for j in i for i in lst]\u001b[0m\n\u001b[0m                            ^\u001b[0m\n\u001b[0;31mSyntaxError\u001b[0m\u001b[0;31m:\u001b[0m invalid syntax\n"
     ]
    }
   ],
   "source": [
    "lst = [1,2,3,4,[5,6,7],\"Tapan\",(10,56,89,23)]\n",
    "[i if type(i)==int else for j in i for i in lst]"
   ]
  },
  {
   "cell_type": "code",
   "execution_count": null,
   "id": "46bef13d-531e-4fd8-a745-d1a4ead22d59",
   "metadata": {},
   "outputs": [],
   "source": []
  }
 ],
 "metadata": {
  "kernelspec": {
   "display_name": "Python 3 (ipykernel)",
   "language": "python",
   "name": "python3"
  },
  "language_info": {
   "codemirror_mode": {
    "name": "ipython",
    "version": 3
   },
   "file_extension": ".py",
   "mimetype": "text/x-python",
   "name": "python",
   "nbconvert_exporter": "python",
   "pygments_lexer": "ipython3",
   "version": "3.10.8"
  }
 },
 "nbformat": 4,
 "nbformat_minor": 5
}
