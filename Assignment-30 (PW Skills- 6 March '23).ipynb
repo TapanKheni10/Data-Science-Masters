{
 "cells": [
  {
   "cell_type": "markdown",
   "id": "704f9191-f693-49e8-8fdb-c7dcc652f1ba",
   "metadata": {},
   "source": [
    "1) What is Statistics?\n",
    "\n",
    "- Statistics is basically defined as the science of collecting, oraganizing and analyzing the data through which we will be able to make any kind of decisions and conclusions."
   ]
  },
  {
   "cell_type": "markdown",
   "id": "a08e8eb2-9ab8-4e3e-9343-4af6c8f7d1a5",
   "metadata": {},
   "source": [
    "2) Define the different types of statistics and give an example of when each type might be used.\n",
    "\n",
    "There are basically two types of statistics :\n",
    "- Descriptive stats: It consists of organizing and summarizing the data. \n",
    "- Inferential stats: It consists of the use of data which we have measured in order to make conclusions.\n",
    "\n",
    "- If we want to measure the average height of students in a particular classroom then we can make use of descriptive stats and if we want to make a conculsion whether the average height of students in the classroom is equal to the average height that we expect for entire college then we can make use of inferential stats."
   ]
  },
  {
   "cell_type": "markdown",
   "id": "7805226f-7447-4dec-83b8-8f86acefcc17",
   "metadata": {},
   "source": [
    "3) What are the different types of data and how do they differ from each other? Provide an example of each type of data.\n",
    "\n",
    "There are basically two types of data:\n",
    "- Quantitative data: The data in which we will be able to perform any Arithmetic operations. (we can manipulate it) Example: no of bank account a person can have (Discrete), height (Continuos)\n",
    "\n",
    "- Qualitative data: The data in which we won't be able to manipulate it. (It is in the form of categories) Example: Gender (Nominal), marks (Ordinal)\n"
   ]
  },
  {
   "cell_type": "markdown",
   "id": "52d56d34-dac8-4083-b101-ec5c298a68f3",
   "metadata": {},
   "source": [
    "4) Categorise the following datasets with respect to quantitative and qualitative data types: (i) Grading in exam: A+, A, B+, B, C+, C, D, E (ii) Colour of mangoes: yellow, green, orange, red (iii) Height data of a class: [178.9, 179, 179.5, 176, 177.2, 178.3, 175.8,...] (iv) Number of mangoes exported by a farm: [500, 600, 478, 672, ...]\n",
    "\n",
    "- Grading in exam --> Ordinal (Qualitative data)\n",
    "- Colour of mangoes --> Nominal (Qualitative data)\n",
    "- Height data of a class --> Continuos (Quantitative data)\n",
    "- Number of mangoes exported by a farm --> Discrete (Quantitative data)"
   ]
  },
  {
   "cell_type": "markdown",
   "id": "5f3b0b9b-2902-47bb-a239-5108e37f3658",
   "metadata": {},
   "source": [
    "5) Explain the concept of levels of measurement and give an example of a variable for each level.\n",
    "\n",
    "levels of measurement helps us to determine that in which particular data scale our data falls.\n",
    "\n",
    "There are four types of data scales: \n",
    "- Nominal data scale: In this order of data doesn't matter a lot. Example: red-10%, yellow-30%, green-60% (Result of survey of flowers)\n",
    "- Ordinal data scale: In this order matters but we won't be able to find out difference between various ordered data. Example: different degrees like PHD, B.Tech, B.Sc, B.Com etc. (we can assign rank to it)\n",
    "- Interval data scale: In this particular scale we will be able to assign rank as well as able to find out difference between various ordered data but the data doesn't contain starting zero. Example: Temperature in F\n",
    "- Ration data scale:  In this particular scale we will be able to assign rank as well as able to find out difference between various ordered data and the data may contain starting zero. Example: marks of students "
   ]
  },
  {
   "cell_type": "markdown",
   "id": "7986d12f-8eb1-4d3f-bc01-164e67ed0dae",
   "metadata": {},
   "source": [
    "6) Why is it important to understand the level of measurement when analyzing data? Provide an example to illustrate your answer.\n",
    "\n",
    "it is important to understand the level of measurement when analyzing data because it helps us to understand that in which particular data scale our data falls. If we are not aware about our data then how can we perform appropriate operations on it.\n",
    "\n",
    "Suppose if Data scale is nominal or ordinal then we won't be able to perform arithmetic operations on it anf if Data scale is interval or ratio then we may perform it depending upon our requirement. "
   ]
  },
  {
   "cell_type": "markdown",
   "id": "3d9174fd-2690-4346-80f9-6d1ee972ba81",
   "metadata": {},
   "source": [
    "7) How nominal data type is different from ordinal data type.\n",
    "\n",
    "In Nominal data type we won't ba able to assign rank whereas in Ordinal data we may assign rank."
   ]
  },
  {
   "cell_type": "markdown",
   "id": "b8a7f6e5-3e8d-4171-b634-d871a9ee2f50",
   "metadata": {},
   "source": [
    "8) Which type of plot can be used to display data in terms of range?\n",
    "\n",
    "Bar plot"
   ]
  },
  {
   "cell_type": "markdown",
   "id": "7ec22a4d-8204-41ca-87b9-3b7ca3f9ab72",
   "metadata": {},
   "source": [
    "9) Describe the difference between descriptive and inferential statistics. Give an example of each type of statistics and explain how they are used.\n",
    "\n",
    "Through descriptive stats we can not make conclusions about our data but it helps us in case of central tendency and spread. Inferential stats is exactly opposite to it.\n",
    "\n",
    "If we want to measure the average height of students in a particular classroom then we can make use of descriptive stats and if we want to make a conculsion whether the average height of students in the classroom is equal to the average height that we expect for entire college then we can make use of inferential stats.\n",
    "\n",
    "In descriptive stats we have the concept of measurement of central tendency and spread Whereas in inferential stats we can perform hypothesis testing."
   ]
  },
  {
   "cell_type": "markdown",
   "id": "9c27df2a-6b00-4216-849a-c4e83c82feb0",
   "metadata": {},
   "source": [
    "10) What are some common measures of central tendency and variability used in statistics? Explain how each measure can be used to describe a dataset.\n",
    "\n",
    "Different measures of central tendency and variability: \n",
    "- Mean: it gives the average value.\n",
    "- Median: it gives the central data point value.\n",
    "- Mode: it gives the most frequent element.\n",
    "- Variance: it tells us about the spreadness of data around the mean.\n",
    "- Standard Deviation: it tells us that at which std from the mean our particular data point is located."
   ]
  },
  {
   "cell_type": "code",
   "execution_count": null,
   "id": "78eadcb7-263d-4159-b99c-a85e29e1ca7e",
   "metadata": {},
   "outputs": [],
   "source": []
  }
 ],
 "metadata": {
  "kernelspec": {
   "display_name": "Python 3 (ipykernel)",
   "language": "python",
   "name": "python3"
  },
  "language_info": {
   "codemirror_mode": {
    "name": "ipython",
    "version": 3
   },
   "file_extension": ".py",
   "mimetype": "text/x-python",
   "name": "python",
   "nbconvert_exporter": "python",
   "pygments_lexer": "ipython3",
   "version": "3.10.8"
  }
 },
 "nbformat": 4,
 "nbformat_minor": 5
}
