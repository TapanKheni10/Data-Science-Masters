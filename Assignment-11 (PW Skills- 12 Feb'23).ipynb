{
 "cells": [
  {
   "cell_type": "markdown",
   "id": "7aa5fbf7-40d4-4137-9918-db677a5784ac",
   "metadata": {},
   "source": [
    "1) What is an exception in Python? Write the difference between Exceptions and syntax errors.\n",
    "\n",
    "- Exceptions: This type of error occurs whenever syntactically correct Python code results in an error. The last line of the message(In output console) indicated what type of exception error you ran into.\n",
    "- syntax errors: Syntax errors occur when the parser detects an incorrect statement. \n",
    "\n",
    "Above mentioned points are also give the difference between both of them."
   ]
  },
  {
   "cell_type": "markdown",
   "id": "ad5ea6e6-6a6d-49e6-8fbb-f83236a4a4f2",
   "metadata": {},
   "source": [
    "2) What happens when an exception is not handled? Explain with an example.\n",
    "\n",
    "- Python has many built-in exceptions that are raised when your program encounters an error (something in the program goes wrong). When these exceptions occur, the Python interpreter stops the current process and passes it to the calling process until it is handled. If not handled, the program will crash."
   ]
  },
  {
   "cell_type": "code",
   "execution_count": 2,
   "id": "cd854f24-bc50-48df-b3d0-b3c9ae67fe87",
   "metadata": {},
   "outputs": [
    {
     "ename": "FileNotFoundError",
     "evalue": "[Errno 2] No such file or directory: 'tapan.txt'",
     "output_type": "error",
     "traceback": [
      "\u001b[0;31m---------------------------------------------------------------------------\u001b[0m",
      "\u001b[0;31mFileNotFoundError\u001b[0m                         Traceback (most recent call last)",
      "Cell \u001b[0;32mIn[2], line 1\u001b[0m\n\u001b[0;32m----> 1\u001b[0m f \u001b[38;5;241m=\u001b[39m \u001b[38;5;28;43mopen\u001b[39;49m\u001b[43m(\u001b[49m\u001b[38;5;124;43m\"\u001b[39;49m\u001b[38;5;124;43mtapan.txt\u001b[39;49m\u001b[38;5;124;43m\"\u001b[39;49m\u001b[43m,\u001b[49m\u001b[43m \u001b[49m\u001b[38;5;124;43m'\u001b[39;49m\u001b[38;5;124;43mr\u001b[39;49m\u001b[38;5;124;43m'\u001b[39;49m\u001b[43m)\u001b[49m\n\u001b[1;32m      2\u001b[0m \u001b[38;5;28mprint\u001b[39m(\u001b[38;5;124m\"\u001b[39m\u001b[38;5;124mThe Program run successfully!!\u001b[39m\u001b[38;5;124m\"\u001b[39m)\n",
      "File \u001b[0;32m/opt/conda/lib/python3.10/site-packages/IPython/core/interactiveshell.py:282\u001b[0m, in \u001b[0;36m_modified_open\u001b[0;34m(file, *args, **kwargs)\u001b[0m\n\u001b[1;32m    275\u001b[0m \u001b[38;5;28;01mif\u001b[39;00m file \u001b[38;5;129;01min\u001b[39;00m {\u001b[38;5;241m0\u001b[39m, \u001b[38;5;241m1\u001b[39m, \u001b[38;5;241m2\u001b[39m}:\n\u001b[1;32m    276\u001b[0m     \u001b[38;5;28;01mraise\u001b[39;00m \u001b[38;5;167;01mValueError\u001b[39;00m(\n\u001b[1;32m    277\u001b[0m         \u001b[38;5;124mf\u001b[39m\u001b[38;5;124m\"\u001b[39m\u001b[38;5;124mIPython won\u001b[39m\u001b[38;5;124m'\u001b[39m\u001b[38;5;124mt let you open fd=\u001b[39m\u001b[38;5;132;01m{\u001b[39;00mfile\u001b[38;5;132;01m}\u001b[39;00m\u001b[38;5;124m by default \u001b[39m\u001b[38;5;124m\"\u001b[39m\n\u001b[1;32m    278\u001b[0m         \u001b[38;5;124m\"\u001b[39m\u001b[38;5;124mas it is likely to crash IPython. If you know what you are doing, \u001b[39m\u001b[38;5;124m\"\u001b[39m\n\u001b[1;32m    279\u001b[0m         \u001b[38;5;124m\"\u001b[39m\u001b[38;5;124myou can use builtins\u001b[39m\u001b[38;5;124m'\u001b[39m\u001b[38;5;124m open.\u001b[39m\u001b[38;5;124m\"\u001b[39m\n\u001b[1;32m    280\u001b[0m     )\n\u001b[0;32m--> 282\u001b[0m \u001b[38;5;28;01mreturn\u001b[39;00m \u001b[43mio_open\u001b[49m\u001b[43m(\u001b[49m\u001b[43mfile\u001b[49m\u001b[43m,\u001b[49m\u001b[43m \u001b[49m\u001b[38;5;241;43m*\u001b[39;49m\u001b[43margs\u001b[49m\u001b[43m,\u001b[49m\u001b[43m \u001b[49m\u001b[38;5;241;43m*\u001b[39;49m\u001b[38;5;241;43m*\u001b[39;49m\u001b[43mkwargs\u001b[49m\u001b[43m)\u001b[49m\n",
      "\u001b[0;31mFileNotFoundError\u001b[0m: [Errno 2] No such file or directory: 'tapan.txt'"
     ]
    }
   ],
   "source": [
    "f = open(\"tapan.txt\", 'r')\n",
    "print(\"The Program run successfully!!\")"
   ]
  },
  {
   "cell_type": "code",
   "execution_count": 3,
   "id": "a39969ac-f2e4-4bac-ab4d-59b3019daf85",
   "metadata": {},
   "outputs": [],
   "source": [
    "# if we don't handled this exception via try and except block then it may lead to crash and we won't be able\n",
    "# to execute the further operations."
   ]
  },
  {
   "cell_type": "markdown",
   "id": "110976df-86c4-43e8-8a7f-8657838c918a",
   "metadata": {},
   "source": [
    "3) Which python statements are used to catch and handle exeptions? Explain with an example.\n",
    "\n",
    "try and except statements are used to catch and handle exceptions.\n",
    "- For this we need to put the suspicious code into try block and it will check that particular part of code and if there will be some kind of exceptions then except block will be executed.\n",
    "- except block will trying to handle the exceptions."
   ]
  },
  {
   "cell_type": "code",
   "execution_count": 5,
   "id": "f9ceffdf-ab85-457e-9655-2bf596262433",
   "metadata": {},
   "outputs": [
    {
     "name": "stdout",
     "output_type": "stream",
     "text": [
      "This is a issue with my code. [Errno 2] No such file or directory: 'abc.txt'\n",
      "The Program run successfully!!\n"
     ]
    }
   ],
   "source": [
    "# In the below given code we are trying to read file without its existence.\n",
    "try:\n",
    "    f = open(\"abc.txt\", 'r')\n",
    "except Exception as e:\n",
    "    print(\"This is a issue with my code.\",e)\n",
    "print(\"The Program run successfully!!\")"
   ]
  },
  {
   "cell_type": "markdown",
   "id": "df0951a0-fdd6-4b2e-a6eb-a37e707b53d5",
   "metadata": {},
   "source": [
    "4) Explain with an example: try and else, finally, \n",
    "\n",
    "- In try block we need to put our suspicious block of code and it will try to detect an exception. if an exception is founded then except block will handle it.\n",
    "- else block is only executed when try block is executed without any exceptions.\n",
    "- finally block will try to execute itself in any conditions.(whether an exception has occur or not)\n",
    "- The raise keyword raises an error and stops the control flow of the program. It is used to bring up the current exception in an exception handler so that it can be handled further up the call stack."
   ]
  },
  {
   "cell_type": "markdown",
   "id": "0fac732e-3a3d-4924-b699-1ffd80540ca1",
   "metadata": {},
   "source": [
    "5) What are Custom Exceptions in python? Why do we need Custom Exceptions? Explain with an example.\n",
    "\n",
    "Custom Exceptions are basically defined as an error which is not an error for the system means it is a valid block of code for the system but for us it leads to an incorrect output.\n",
    "- To tackle this type of exceptions we need our own Custom Exceptions classes."
   ]
  },
  {
   "cell_type": "code",
   "execution_count": 4,
   "id": "a41cc151-d301-44d5-bbdb-f2db1a65b73a",
   "metadata": {},
   "outputs": [],
   "source": [
    "class Validate_pwd(Exception):\n",
    "    def __init__(self, msg):\n",
    "        self.msg = msg"
   ]
  },
  {
   "cell_type": "code",
   "execution_count": 5,
   "id": "4813f601-1277-416d-8eea-ae06b74e0b31",
   "metadata": {},
   "outputs": [],
   "source": [
    "def validate_password(pwd):\n",
    "    if len(pwd) < 5:\n",
    "        raise Validate_pwd(\"Too short.\")\n",
    "    elif len(pwd) > 10:\n",
    "        raise Validate_pwd(\"Too long.\")\n",
    "    else:\n",
    "        print(\"Valid password.\")"
   ]
  },
  {
   "cell_type": "code",
   "execution_count": 9,
   "id": "55279667-18fc-47b3-b5a3-d2785fc75a51",
   "metadata": {},
   "outputs": [
    {
     "name": "stdin",
     "output_type": "stream",
     "text": [
      "Enter your password (range: 5-10 characters):  Tapan@201\n"
     ]
    },
    {
     "name": "stdout",
     "output_type": "stream",
     "text": [
      "Valid password.\n"
     ]
    }
   ],
   "source": [
    "try:\n",
    "    pwd = input(\"Enter your password (range: 5-10 characters): \")\n",
    "    validate_password(pwd)\n",
    "except Validate_pwd as e:\n",
    "    print(e)"
   ]
  },
  {
   "cell_type": "markdown",
   "id": "ee24976a-4c1b-4eb5-9fd4-04a5b891d9e5",
   "metadata": {},
   "source": [
    "6) Create a custom exception class. Use this class to handle an exception."
   ]
  },
  {
   "cell_type": "code",
   "execution_count": 10,
   "id": "483ca94f-489d-4560-9b53-7168743678eb",
   "metadata": {},
   "outputs": [],
   "source": [
    "class Validate_money(Exception):\n",
    "    def __init__(self, msg):\n",
    "        self.msg = msg"
   ]
  },
  {
   "cell_type": "code",
   "execution_count": 16,
   "id": "9711576b-0811-40c1-975c-e455625a1a47",
   "metadata": {},
   "outputs": [],
   "source": [
    "def isValid_money(deposit):\n",
    "    if deposit < 0:\n",
    "        raise Validate_money(\"Money can't be negative. Please enter valid amount.\")\n",
    "    elif deposit > 10000:\n",
    "        raise Validate_money(\"You can deposit maximum 10000 money at a time.\")\n",
    "    else:\n",
    "        print(\"Successfully deposited.\")"
   ]
  },
  {
   "cell_type": "code",
   "execution_count": 17,
   "id": "937a199a-f08e-4984-a062-d1eb72a786a2",
   "metadata": {},
   "outputs": [
    {
     "name": "stdin",
     "output_type": "stream",
     "text": [
      "Enter your amount:  20000\n"
     ]
    },
    {
     "name": "stdout",
     "output_type": "stream",
     "text": [
      "You can deposit maximum 10000 money at a time.\n"
     ]
    }
   ],
   "source": [
    "try:\n",
    "    deposit = int(input(\"Enter your amount: \"))\n",
    "    isValid_money(deposit)\n",
    "except Validate_money as e:\n",
    "    print(e)"
   ]
  }
 ],
 "metadata": {
  "kernelspec": {
   "display_name": "Python 3 (ipykernel)",
   "language": "python",
   "name": "python3"
  },
  "language_info": {
   "codemirror_mode": {
    "name": "ipython",
    "version": 3
   },
   "file_extension": ".py",
   "mimetype": "text/x-python",
   "name": "python",
   "nbconvert_exporter": "python",
   "pygments_lexer": "ipython3",
   "version": "3.10.8"
  }
 },
 "nbformat": 4,
 "nbformat_minor": 5
}
