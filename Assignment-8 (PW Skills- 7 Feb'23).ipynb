{
 "cells": [
  {
   "cell_type": "markdown",
   "id": "0d39da29-1416-4a42-88b6-c90bc2e6ecf6",
   "metadata": {},
   "source": [
    "1) You are writing code for a company. The requirement of the company is that you create a python function that will check whether the password entered by the user is correct or not. The function should take the password as input and return the string “Valid Password” if the entered password follows the below-given password guidelines else it should return “Invalid Password”."
   ]
  },
  {
   "cell_type": "code",
   "execution_count": 10,
   "id": "49816137-dba8-465c-9b56-616d0d1a3312",
   "metadata": {},
   "outputs": [
    {
     "name": "stdin",
     "output_type": "stream",
     "text": [
      "Enter your password..... tap$@12&an\n"
     ]
    },
    {
     "data": {
      "text/plain": [
       "'Invalid Password.'"
      ]
     },
     "execution_count": 10,
     "metadata": {},
     "output_type": "execute_result"
    }
   ],
   "source": [
    "def isPassword_valid(pwd):\n",
    "    lower_count, upper_count, number_count, symbol_count = 0,0,0,0\n",
    "    if len(pwd) == 10:\n",
    "        i = 0\n",
    "        while(i<len(pwd)):\n",
    "            if pwd[i].isupper():\n",
    "                upper_count += 1\n",
    "            elif pwd[i].islower():\n",
    "                lower_count += 1\n",
    "            elif pwd[i].isnumeric():\n",
    "                number_count += 1\n",
    "            else:\n",
    "                symbol_count += 1\n",
    "            i += 1\n",
    "        \n",
    "        if lower_count>=2 and upper_count>=2 and number_count>=1 and symbol_count==3:\n",
    "            return \"Valid Password.\"\n",
    "\n",
    "    return \"Invalid Password.\"\n",
    "    \n",
    "user_pwd = input(\"Enter your password.....\")\n",
    "isPassword_valid(user_pwd)"
   ]
  },
  {
   "cell_type": "markdown",
   "id": "a94efe1b-7887-45ad-b0a9-40267d3ef233",
   "metadata": {},
   "source": [
    "2) Solve the below-given questions using at least one of the following:\n",
    "1. Lambda function\n",
    "2. Filter function\n",
    "3. Map function\n",
    "4. List Comprehension \n",
    "- Check if the string starts with a particular letter.\n",
    "- Check if the string is numeric.\n",
    "- Sort a list of tuples having fruit names and their quantity. [(\"mango\",99),(\"orange\",80), (\"grapes\", 1000)]\n",
    "- Find the squares of numbers from 1 to 10.\n",
    "- Find the cube root of numbers from 1 to 10.\n",
    "- Check if a given number is even.\n",
    "- Filter odd numbers from the given list.\n",
    "[1,2,3,4,5,6,7,8,9,10]\n",
    "- Sort a list of integers into positive and negative integers lists.\n",
    "[1,2,3,4,5,6,-1,-2,-3,-4,-5,0]"
   ]
  },
  {
   "cell_type": "code",
   "execution_count": 3,
   "id": "9fde5c55-1be1-450d-8bf2-173c4a32179f",
   "metadata": {},
   "outputs": [
    {
     "name": "stdin",
     "output_type": "stream",
     "text": [
      "Enter a string:  Hello World\n"
     ]
    },
    {
     "data": {
      "text/plain": [
       "True"
      ]
     },
     "execution_count": 3,
     "metadata": {},
     "output_type": "execute_result"
    }
   ],
   "source": [
    "# Check if the string starts with a particular letter\n",
    "s = input(\"Enter a string: \").lower()\n",
    "a = lambda s:s.startswith(\"h\")\n",
    "a(s)"
   ]
  },
  {
   "cell_type": "code",
   "execution_count": 8,
   "id": "e739cdc8-0ea0-4fad-a60a-c823c403108f",
   "metadata": {},
   "outputs": [
    {
     "name": "stdin",
     "output_type": "stream",
     "text": [
      "Enter a string:  123456789t\n"
     ]
    },
    {
     "data": {
      "text/plain": [
       "False"
      ]
     },
     "execution_count": 8,
     "metadata": {},
     "output_type": "execute_result"
    }
   ],
   "source": [
    "# Check if the string is numeric\n",
    "s = input(\"Enter a string: \")\n",
    "a = lambda s:s.isnumeric()\n",
    "a(s)"
   ]
  },
  {
   "cell_type": "code",
   "execution_count": 17,
   "id": "20115921-12ed-41aa-aad7-e04b8e85f855",
   "metadata": {},
   "outputs": [
    {
     "name": "stdout",
     "output_type": "stream",
     "text": [
      "[('grapes', 1000), ('mango', 99), ('orange', 80)]\n",
      "[('orange', 80), ('mango', 99), ('grapes', 1000)]\n"
     ]
    }
   ],
   "source": [
    "# Sort a list of tuples having fruit names and their quantity. \n",
    "# We can sort the given list in two ways either based on fruit_name or based on quantity_number.\n",
    "\n",
    "def my_func1(tpl):\n",
    "    return tpl[0]\n",
    "def my_func2(tpl):\n",
    "    return tpl[1]\n",
    "\n",
    "lst = [(\"mango\",99),(\"orange\",80), (\"grapes\", 1000)]\n",
    "# Based on fruit_name\n",
    "s1 = lambda lst:lst.sort(key=my_func1)\n",
    "s1(lst)\n",
    "print(lst)\n",
    "# Based on quantity_number\n",
    "s2 = lambda lst:lst.sort(key=my_func2)\n",
    "s2(lst)\n",
    "print(lst)"
   ]
  },
  {
   "cell_type": "code",
   "execution_count": 20,
   "id": "29b799d6-3f6b-466d-b1f6-10894cd27961",
   "metadata": {},
   "outputs": [
    {
     "data": {
      "text/plain": [
       "[1, 4, 9, 16, 25, 36, 49, 64, 81, 100]"
      ]
     },
     "execution_count": 20,
     "metadata": {},
     "output_type": "execute_result"
    }
   ],
   "source": [
    "# Find the squares of numbers from 1 to 10\n",
    "list(map(lambda x:x**2, [x for x in range(1,11)]))"
   ]
  },
  {
   "cell_type": "code",
   "execution_count": 23,
   "id": "5b587622-aaf5-4624-8193-712c5817393b",
   "metadata": {},
   "outputs": [
    {
     "data": {
      "text/plain": [
       "[0.333, 0.667, 1.0, 1.333, 1.667, 2.0, 2.333, 2.667, 3.0, 3.333]"
      ]
     },
     "execution_count": 23,
     "metadata": {},
     "output_type": "execute_result"
    }
   ],
   "source": [
    "# Find the cube root of numbers from 1 to 10\n",
    "list(map(lambda x:round(x**1/3, 3), [x for x in range(1, 11)]))"
   ]
  },
  {
   "cell_type": "code",
   "execution_count": 25,
   "id": "741d0ee7-6cff-4157-adc7-273cfe2e2925",
   "metadata": {},
   "outputs": [
    {
     "name": "stdin",
     "output_type": "stream",
     "text": [
      "Enter a number:  11\n"
     ]
    },
    {
     "data": {
      "text/plain": [
       "False"
      ]
     },
     "execution_count": 25,
     "metadata": {},
     "output_type": "execute_result"
    }
   ],
   "source": [
    "# Check if a given number is even.\n",
    "num = int(input(\"Enter a number: \"))\n",
    "a = lambda x:x%2==0\n",
    "a(num)"
   ]
  },
  {
   "cell_type": "code",
   "execution_count": 26,
   "id": "b3f17192-d7ac-4a08-b474-a43cd58a2cf6",
   "metadata": {},
   "outputs": [
    {
     "data": {
      "text/plain": [
       "[1, 3, 5, 7, 9]"
      ]
     },
     "execution_count": 26,
     "metadata": {},
     "output_type": "execute_result"
    }
   ],
   "source": [
    "# Filter odd numbers from the given list.\n",
    "lst = [1,2,3,4,5,6,7,8,9,10]\n",
    "list(filter(lambda x: x%2 != 0, lst))"
   ]
  },
  {
   "cell_type": "code",
   "execution_count": 31,
   "id": "60a9ac4a-5499-410d-b1e9-750341363b42",
   "metadata": {},
   "outputs": [
    {
     "name": "stdout",
     "output_type": "stream",
     "text": [
      "[0, 1, 2, 3, 4, 5, 6] [-1, -2, -3, -4, -5]\n"
     ]
    }
   ],
   "source": [
    "# Sort a list of integers into positive and negative integers lists. \n",
    "lst = [1,2,3,4,5,6,-1,-2,-3,-4,-5,0]\n",
    "l1 = list(filter(lambda x:x>=0, lst))\n",
    "l1.sort()\n",
    "l2 = list(filter(lambda x:x<0, lst))\n",
    "l2.sort(reverse=True)\n",
    "print(l1,l2)"
   ]
  },
  {
   "cell_type": "code",
   "execution_count": null,
   "id": "a6a09fd6-343d-434a-9004-f0e39358bb35",
   "metadata": {},
   "outputs": [],
   "source": []
  }
 ],
 "metadata": {
  "kernelspec": {
   "display_name": "Python 3 (ipykernel)",
   "language": "python",
   "name": "python3"
  },
  "language_info": {
   "codemirror_mode": {
    "name": "ipython",
    "version": 3
   },
   "file_extension": ".py",
   "mimetype": "text/x-python",
   "name": "python",
   "nbconvert_exporter": "python",
   "pygments_lexer": "ipython3",
   "version": "3.10.8"
  }
 },
 "nbformat": 4,
 "nbformat_minor": 5
}
