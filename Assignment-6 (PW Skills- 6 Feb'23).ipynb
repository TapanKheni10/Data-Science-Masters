{
 "cells": [
  {
   "cell_type": "markdown",
   "id": "6d9ba19d-9e75-42af-8ccf-5216788c94cb",
   "metadata": {},
   "source": [
    "## Explain Class and Object with respect to Object-Oriented Programming. Give a suitable example.\n",
    "Classes and Objects are basic concepts of OOP that resolve around real life entities.\n",
    "### Class\n",
    "- Class is a set of object which shares common charactristics and common properties.\n",
    "- Class is not a real world entity.It is just a templet or blueprint from which objects are created.\n",
    "### Objects\n",
    "- It is a basic unit of Object-Oriented Programming and represents real life entities.\n",
    "\n",
    "Suppose if we have a class called 'Car' and it have such properties like colour, no_of_seats etc. We will be create as many number of objects as we want and all the objects belongs to this class have these properties. \n",
    "Besides of it, all the car objects can have there extra features like either a car is SUV or not etc. But these type of properties are associated with that particular object."
   ]
  },
  {
   "cell_type": "markdown",
   "id": "c5b88c53-bfee-4d1e-8699-c45e2f64d27c",
   "metadata": {},
   "source": [
    "## Name the four pillars of OOPs."
   ]
  },
  {
   "cell_type": "markdown",
   "id": "3931a8c6-4b88-4b6a-bd20-39775b6499cd",
   "metadata": {},
   "source": [
    "1) Encapsulation\n",
    "2) Inheritance\n",
    "3) Polymorphism\n",
    "4) Abstraction"
   ]
  },
  {
   "cell_type": "markdown",
   "id": "73537399-2455-496f-a67d-8286781eef80",
   "metadata": {},
   "source": [
    "## Explain why the __init__() function is used. Give a suitable example."
   ]
  },
  {
   "cell_type": "markdown",
   "id": "a2639e43-8d16-4dcd-948d-6ac6f49b9a31",
   "metadata": {},
   "source": [
    "- __init__() method is basically used for accepting data from an particular instance/object while creating it.\n",
    "- if we want to give some data to an object then you should make use of __init__() method.  "
   ]
  },
  {
   "cell_type": "code",
   "execution_count": 1,
   "id": "8480f58b-bf4d-44c1-9a63-253d541123ca",
   "metadata": {},
   "outputs": [],
   "source": [
    "class Greet:\n",
    "    def __init__(self, student_name, course_name):\n",
    "        self.name = student_name\n",
    "        self.course = course_name\n",
    "    def greet_student(self):\n",
    "        print(\"Welcome {}.\".format(self.name))\n",
    "        print(\"You have successfully enrolled for {} course.\".format(self.course))\n",
    "\n",
    "o1 = Greet(\"Krish\", \"Data Science Masters\")\n",
    "o2 = Greet(\"Tony\", \"Machine Learning\")"
   ]
  },
  {
   "cell_type": "code",
   "execution_count": 2,
   "id": "3a5b8915-3a67-4065-9b22-801aded69046",
   "metadata": {},
   "outputs": [
    {
     "name": "stdout",
     "output_type": "stream",
     "text": [
      "Welcome Krish.\n",
      "You have successfully enrolled for Data Science Masters course.\n"
     ]
    }
   ],
   "source": [
    "o1.greet_student()"
   ]
  },
  {
   "cell_type": "code",
   "execution_count": 3,
   "id": "58c466cc-fcd4-44ae-8b37-c8d582baa6e4",
   "metadata": {},
   "outputs": [
    {
     "name": "stdout",
     "output_type": "stream",
     "text": [
      "Welcome Tony.\n",
      "You have successfully enrolled for Machine Learning course.\n"
     ]
    }
   ],
   "source": [
    "o2.greet_student()"
   ]
  },
  {
   "cell_type": "markdown",
   "id": "b27efcf1-68d5-4454-a961-a0b52e85c033",
   "metadata": {},
   "source": [
    "## Why self is used in OOPs?"
   ]
  },
  {
   "cell_type": "markdown",
   "id": "2cebc8a9-007d-4b60-a106-ffce5940662f",
   "metadata": {},
   "source": [
    "self is basically used to give reference of instance/objects to the class as well as to access atributes of an object inside the class.\n"
   ]
  },
  {
   "cell_type": "markdown",
   "id": "aefe510a-713c-4162-86a6-b30b96e12677",
   "metadata": {},
   "source": [
    "## What is inheritance? Give an example for each type of inheritance.\n",
    "\n",
    "--> Inheritance is the capability of one class to derive or inherit the properties from another class.\n",
    "Examples of each and every type: \n",
    "- Single inheritance: Suppose one class has ability to do one particular thing and there will be one another class as well which is a child class of that class.So that particular thing can be done by child class as well. \n",
    "- Multiple inheritance: There are three classes in which two class are named father and mother.one remaining class is named child class.in this case we can say child class inherits the properties of mother as well as father class.\n",
    "- Multi-level inheritance: Child class inherits the properties of grandfather and father class.\n",
    "- Hierarchical inheritance: Properties of Parent class is inherited by Two Child classes.\n",
    "- Hybrid inheritance: Let suppose we have three class named School, Stu_1, Stu_2 in which Stu_1 inherits the properties of School class and Online_coaching class and Stu_2 inherits the properties of School class as well as Stu_1 class."
   ]
  },
  {
   "cell_type": "code",
   "execution_count": null,
   "id": "2c85f471-59c7-4d53-a78d-415ba963b34b",
   "metadata": {},
   "outputs": [],
   "source": []
  }
 ],
 "metadata": {
  "kernelspec": {
   "display_name": "Python 3 (ipykernel)",
   "language": "python",
   "name": "python3"
  },
  "language_info": {
   "codemirror_mode": {
    "name": "ipython",
    "version": 3
   },
   "file_extension": ".py",
   "mimetype": "text/x-python",
   "name": "python",
   "nbconvert_exporter": "python",
   "pygments_lexer": "ipython3",
   "version": "3.10.8"
  }
 },
 "nbformat": 4,
 "nbformat_minor": 5
}
