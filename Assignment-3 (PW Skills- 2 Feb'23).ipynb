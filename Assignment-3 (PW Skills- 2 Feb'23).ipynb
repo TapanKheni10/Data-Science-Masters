{
 "cells": [
  {
   "cell_type": "markdown",
   "id": "d345f00b-c8fb-4351-9772-df01f29eae1e",
   "metadata": {},
   "source": [
    "1) What are the characteristics of the tuples? Is tuple immutable? \n",
    "- Tuples are defined in the same way as lists.\n",
    "- They are enclosed within parenthesis and not within square braces.\n",
    "- Elements of the tuple must have a defined order.\n",
    "- Negative indices are counted from the end of the tuple, just like lists.\n",
    "- Tuple also has the same structure where commas separate the values.\n",
    "\n",
    "Yes, Tuples are immutable in nature as we won't be able to modify its elements as we can do in case of lists."
   ]
  },
  {
   "cell_type": "markdown",
   "id": "37c70f9c-8411-41ee-ae7a-6c15b4d0e7f5",
   "metadata": {},
   "source": [
    "2) What are the two tuple methods in python? Give an example of each method. Give a reason why\n",
    "tuples have only two in-built methods as compared to Lists.\n",
    "there are two in-built methods available in case of tuples:\n",
    "- .count()--> returns the occurrence of a particular element inside a tuple.\n",
    "- .index()--> returns the first occurrence of any element inside a tuple.\n",
    " \n",
    "As we all know that Tuples in python are immutable in nature and this is the major difference b/w lists and tuples.So we won't be able to add, remove or change any element once a tuple is defined and this is the reason why tuples have only two in-built methods as compared to lists. "
   ]
  },
  {
   "cell_type": "code",
   "execution_count": 6,
   "id": "83498ac3-9ddf-409a-83cd-34b56c73112b",
   "metadata": {},
   "outputs": [
    {
     "name": "stdout",
     "output_type": "stream",
     "text": [
      "count the number of times 1 is present: 2\n",
      "Gives the index where 'Tapan' is present: 4\n"
     ]
    }
   ],
   "source": [
    "#Example:\n",
    "tpl = (1,2,3,\"PWSkills\", \"Tapan\", 56.89, True)\n",
    "print(\"count the number of times 1 is present: {}\".format(tpl.count(1)))\n",
    "print(\"Gives the index where 'Tapan' is present: {}\".format(tpl.index(\"Tapan\")))"
   ]
  },
  {
   "cell_type": "markdown",
   "id": "07fe758e-8628-4d65-9f19-60094f497fc1",
   "metadata": {},
   "source": [
    "3) Which collection datatypes in python do not allow duplicate items? Write a code using a set to remove\n",
    "duplicates from the given list.\n",
    "\n",
    "'Sets' are the collection datatypes in python which do not allow duplicate items."
   ]
  },
  {
   "cell_type": "code",
   "execution_count": 8,
   "id": "c058e0a0-796b-46ed-a579-94851cead997",
   "metadata": {},
   "outputs": [
    {
     "name": "stdout",
     "output_type": "stream",
     "text": [
      "{1, 2, 3, 4}\n"
     ]
    }
   ],
   "source": [
    "lst = [1, 1, 1, 2, 1, 3, 1, 4, 2, 1, 2, 2, 2, 3, 2, 4, 3, 1, 3, 2, 3, 3, 3, 4, 4, 1, 4, 2, 4, 3, 4, 4]\n",
    "st = set(lst)\n",
    "print(st)"
   ]
  },
  {
   "cell_type": "markdown",
   "id": "02c975da-af19-42ed-a0f0-bec58fcf5edf",
   "metadata": {},
   "source": [
    "4) Explain the difference between the union() and update() methods for a set. Give an example of\n",
    "each method.\n",
    "\n",
    "- union() method is used to combine both of the sets by considering all duplicate elements only once.\n",
    "- update() is a method having the same functionality as union() but the only difference is that it update the value into a particular set while union() can't able to do that. "
   ]
  },
  {
   "cell_type": "code",
   "execution_count": 2,
   "id": "642cfae9-cf22-4bb3-a56a-4a04bb6d4be6",
   "metadata": {},
   "outputs": [
    {
     "name": "stdout",
     "output_type": "stream",
     "text": [
      "{False, 1, 2, 3, 100.82, 5, 6, 56.85, 'Data Science'}\n",
      "After performing union Set_1: \n",
      "{False, 1, 2, 3, 56.85, 'Data Science'}\n",
      "After performing update Set_1: \n",
      "{False, 1, 2, 3, 100.82, 5, 6, 56.85, 'Data Science'}\n"
     ]
    }
   ],
   "source": [
    "st1 = {1,2,3,\"Data Science\",56.85,False}\n",
    "st2 = {3,5,6,True,False,\"Data Science\",100.82}\n",
    "print(st1.union(st2))\n",
    "print(\"After performing union Set_1: \")\n",
    "print(st1)\n",
    "st1.update(st2)\n",
    "print(\"After performing update Set_1: \")\n",
    "print(st1)"
   ]
  },
  {
   "cell_type": "markdown",
   "id": "42cb19af-77c3-4a34-b316-6652d6be6779",
   "metadata": {},
   "source": [
    "5) What is a dictionary? Give an example. Also, state whether a dictionary is ordered or unordered.\n",
    "\n",
    "A dictionary is basically a collection datatype which is used to store number of 'Key-Value' pairs in which a particular value is associated with a particular key.\n",
    "\n",
    "Dictionary in Python is a type of unordered collection datatypes."
   ]
  },
  {
   "cell_type": "code",
   "execution_count": 6,
   "id": "19709ec7-3549-43f4-88c5-00f1caca3c61",
   "metadata": {},
   "outputs": [
    {
     "name": "stdout",
     "output_type": "stream",
     "text": [
      "Cricketer\n"
     ]
    }
   ],
   "source": [
    "## Example\n",
    "player_info = {\n",
    "    \"Virat Kohli\": \"Cricketer\",\n",
    "    \"Critiano Ronaldo\": \"Footballer\",\n",
    "    \"Lebron James\": \"Basketball Player\",\n",
    "}\n",
    "print(player_info[\"Virat Kohli\"])"
   ]
  },
  {
   "cell_type": "markdown",
   "id": "878b7f6c-ff4d-475c-b109-538e82d29905",
   "metadata": {},
   "source": [
    "6) Can we create a nested dictionary? If so, please give an example by creating a simple one-level\n",
    "nested dictionary.\n",
    "\n",
    "Yes we may create a nested dictionary."
   ]
  },
  {
   "cell_type": "code",
   "execution_count": 4,
   "id": "085d6d64-5e72-44cc-a757-8a4ef85937c5",
   "metadata": {},
   "outputs": [
    {
     "name": "stdout",
     "output_type": "stream",
     "text": [
      "Cricket\n"
     ]
    }
   ],
   "source": [
    "## Example\n",
    "player_info = {\n",
    "    \"Virat Kohli\": {\"Country\": \"India\", \"Belongs_to\": \"Cricket\"},\n",
    "    \"Critiano Ronaldo\": {\"Country\": \"Portugal\", \"Belongs_to\": \"Football\"},\n",
    "    \"Lebron James\": {\"Country\": \"USA\", \"Belongs_to\": \"Basketball\"},\n",
    "}\n",
    "print(player_info[\"Virat Kohli\"][\"Belongs_to\"])"
   ]
  },
  {
   "cell_type": "markdown",
   "id": "c850a393-2b13-482b-a690-f61752c9579e",
   "metadata": {},
   "source": [
    "7) Using setdefault() method, create key named topics in the given dictionary and also add the value of\n",
    "the key as this list ['Python', 'Machine Learning’, 'Deep Learning'] "
   ]
  },
  {
   "cell_type": "code",
   "execution_count": 8,
   "id": "1269fba6-3851-43c6-94e5-19ab2b00803f",
   "metadata": {},
   "outputs": [
    {
     "data": {
      "text/plain": [
       "['Python', 'Machine Learning', 'Deep Learning']"
      ]
     },
     "execution_count": 8,
     "metadata": {},
     "output_type": "execute_result"
    }
   ],
   "source": [
    "dict1 = {'language' : 'Python', 'course': 'Data Science Masters'}\n",
    "dict1.setdefault('topics', ['Python', 'Machine Learning', 'Deep Learning'])"
   ]
  },
  {
   "cell_type": "code",
   "execution_count": 9,
   "id": "498c77c0-b562-4d31-8e29-72fb68cfe53a",
   "metadata": {},
   "outputs": [
    {
     "name": "stdout",
     "output_type": "stream",
     "text": [
      "{'language': 'Python', 'course': 'Data Science Masters', 'topics': ['Python', 'Machine Learning', 'Deep Learning']}\n"
     ]
    }
   ],
   "source": [
    "print(dict1)"
   ]
  },
  {
   "cell_type": "markdown",
   "id": "e66ba114-53d6-4d46-a0a0-d20ca3741a01",
   "metadata": {},
   "source": [
    "8) What are the three view objects in dictionaries? Use the three in-built methods in python to display\n",
    "these three view objects for the given dictionary.\n",
    "\n",
    "the three view objects in dictionaries are:\n",
    "- Only Key view\n",
    "- Only Value view\n",
    "- Both Key and Value"
   ]
  },
  {
   "cell_type": "code",
   "execution_count": 10,
   "id": "a69f380b-9646-4fa4-bd33-40dd20ac3d49",
   "metadata": {},
   "outputs": [
    {
     "data": {
      "text/plain": [
       "dict_keys(['Sport', 'Teams'])"
      ]
     },
     "execution_count": 10,
     "metadata": {},
     "output_type": "execute_result"
    }
   ],
   "source": [
    "dict1 = {\n",
    "    'Sport': 'Cricket' ,\n",
    "    'Teams': ['India', 'Australia', 'England', 'South Africa', 'Sri Lanka', 'New Zealand']\n",
    "}\n",
    "dict1.keys()"
   ]
  },
  {
   "cell_type": "code",
   "execution_count": 11,
   "id": "bd6ecb6b-097d-4a21-af18-62c036165fad",
   "metadata": {},
   "outputs": [
    {
     "data": {
      "text/plain": [
       "dict_values(['Cricket', ['India', 'Australia', 'England', 'South Africa', 'Sri Lanka', 'New Zealand']])"
      ]
     },
     "execution_count": 11,
     "metadata": {},
     "output_type": "execute_result"
    }
   ],
   "source": [
    "dict1.values()"
   ]
  },
  {
   "cell_type": "code",
   "execution_count": 12,
   "id": "e804fd23-6d1d-4f6a-9620-558720ac9f65",
   "metadata": {},
   "outputs": [
    {
     "data": {
      "text/plain": [
       "dict_items([('Sport', 'Cricket'), ('Teams', ['India', 'Australia', 'England', 'South Africa', 'Sri Lanka', 'New Zealand'])])"
      ]
     },
     "execution_count": 12,
     "metadata": {},
     "output_type": "execute_result"
    }
   ],
   "source": [
    "dict1.items()"
   ]
  },
  {
   "cell_type": "code",
   "execution_count": null,
   "id": "22278416-2087-4c3e-8690-5d345baedb71",
   "metadata": {},
   "outputs": [],
   "source": []
  }
 ],
 "metadata": {
  "kernelspec": {
   "display_name": "Python 3 (ipykernel)",
   "language": "python",
   "name": "python3"
  },
  "language_info": {
   "codemirror_mode": {
    "name": "ipython",
    "version": 3
   },
   "file_extension": ".py",
   "mimetype": "text/x-python",
   "name": "python",
   "nbconvert_exporter": "python",
   "pygments_lexer": "ipython3",
   "version": "3.10.8"
  }
 },
 "nbformat": 4,
 "nbformat_minor": 5
}
