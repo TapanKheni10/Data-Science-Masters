{
 "cells": [
  {
   "cell_type": "markdown",
   "id": "3beccf7a-96c0-41a1-b021-fb157b6a53f7",
   "metadata": {},
   "source": [
    "1) Which function is used to open a file? What are the different modes of opening a file? Explain each mode of file opening.\n",
    "\n",
    "In general, open() function is used to open a file in Python. The function returns a file object.\n",
    "Different modes of opening a file:\n",
    "- Read only ('r'): It is the default access mode. It opens the text file for reading and positions the file handle at the start of the file. If Python finds that the file does not exist, it throws an I/O error and does not create a file with the specified name.  \n",
    "- Write only ('w'): It is used for writing files. If the file isn't in the folder, a file with the specified name is created. If the file exists, the data is truncated and then over-written. The file handle is positioned at the start of the file.\n",
    "- Read and write ('r+'): You can both read and write on files opened with this access mode. It positions the handle at the start of the file. If the file isn't in the directory, it raises an I/O error.\n",
    "- Write and read ('w+'): Like the previous mode, you can both read and write on files opened with this access mode. It positions the handle at the start of the file. If the file isn't in the folder, it creates a new file. Furthermore, if the specified file exists, the data in it is truncated and over-written.\n",
    "- Appened only: This mode opens the file up for writing. If the particular file isn't in the directory, a new one with the same name is created. However, unlike other modes, the handle is located at the end of the file. Thus, the data entered is appended after all of the existing data.\n",
    "- Appened and read ('a+'): It is used to read and write files in Python. It works similarly to the previous mode. If the file isn't available in the directory, one with the same name is created. Alternatively, if the file is available, the entered data is appended after the existing data."
   ]
  },
  {
   "cell_type": "markdown",
   "id": "b926e522-5cf4-4511-9d16-5ad0728b7090",
   "metadata": {},
   "source": [
    "2) Why close() function is used? Why is it important to close a file?\n",
    "\n",
    "- close() function is basically used to terminate a particular access of the file or we can say that it is used to close a file.\n",
    "- it is important to use close() function to close a file because whatever we are trying to write inside a file will not be reflected unless we close that particular file."
   ]
  },
  {
   "cell_type": "markdown",
   "id": "69c8ce7f-f66c-464f-9c17-c1509880b66f",
   "metadata": {},
   "source": [
    "3) Write a python program to create a text file. Write ‘I want to become a Data Scientist’ in that file. Then close the file. Open this file and read the content of the file."
   ]
  },
  {
   "cell_type": "code",
   "execution_count": 1,
   "id": "88701348-37eb-478c-b66b-e7a5bd86dc30",
   "metadata": {},
   "outputs": [],
   "source": [
    "f = open(\"text.txt\", 'w')"
   ]
  },
  {
   "cell_type": "code",
   "execution_count": 2,
   "id": "a371ce52-bdee-427a-a451-fe7f618a6174",
   "metadata": {},
   "outputs": [
    {
     "data": {
      "text/plain": [
       "34"
      ]
     },
     "execution_count": 2,
     "metadata": {},
     "output_type": "execute_result"
    }
   ],
   "source": [
    "f.write(\"I want to become a Data Scientist.\")"
   ]
  },
  {
   "cell_type": "code",
   "execution_count": 3,
   "id": "cfb693bf-f149-4d3a-b32b-5c46f281419c",
   "metadata": {},
   "outputs": [],
   "source": [
    "f.close()"
   ]
  },
  {
   "cell_type": "code",
   "execution_count": 9,
   "id": "ebd7b770-3f6c-4db0-83b4-d11511259acf",
   "metadata": {},
   "outputs": [],
   "source": [
    "f = open(\"text.txt\", 'r')"
   ]
  },
  {
   "cell_type": "code",
   "execution_count": 10,
   "id": "dd1928dd-daa1-4c60-b0f1-1339ea838e9a",
   "metadata": {},
   "outputs": [
    {
     "name": "stdout",
     "output_type": "stream",
     "text": [
      "I want to become a Data Scientist.\n"
     ]
    }
   ],
   "source": [
    "print(f.read())"
   ]
  },
  {
   "cell_type": "markdown",
   "id": "0321b3b4-232d-4b8f-a4c3-289f60c53b43",
   "metadata": {},
   "source": [
    "4) Explain the following with python code: read(), readline() and readlines().\n",
    "\n",
    "- read(): It returns the entire content of the file as a single String.\n",
    "- readline(): It returns a single line of the file until it encounters a new line character.\n",
    "- readlines(): It returns all the lines of the file as a list of strings where every string represents each and every lines of the file."
   ]
  },
  {
   "cell_type": "code",
   "execution_count": 20,
   "id": "74af22da-a125-4e8f-8337-39b377bc3016",
   "metadata": {},
   "outputs": [],
   "source": [
    "f = open(\"text_3.txt\", 'w')"
   ]
  },
  {
   "cell_type": "code",
   "execution_count": 21,
   "id": "c823e016-8af6-4fd2-827e-8b39ecfe2b91",
   "metadata": {},
   "outputs": [
    {
     "data": {
      "text/plain": [
       "35"
      ]
     },
     "execution_count": 21,
     "metadata": {},
     "output_type": "execute_result"
    }
   ],
   "source": [
    "f.write(\"I want to become a Data Scientist.\\n\")"
   ]
  },
  {
   "cell_type": "code",
   "execution_count": 22,
   "id": "5aae8a12-1760-443c-a7c3-041d6932fb46",
   "metadata": {},
   "outputs": [
    {
     "data": {
      "text/plain": [
       "112"
      ]
     },
     "execution_count": 22,
     "metadata": {},
     "output_type": "execute_result"
    }
   ],
   "source": [
    "f.write(\"Data Science Masters course is highly curated and uniquely designed according to the latest industry standards.\\n\")"
   ]
  },
  {
   "cell_type": "code",
   "execution_count": 23,
   "id": "66655a27-865f-43cf-985a-2668486a1db2",
   "metadata": {},
   "outputs": [
    {
     "data": {
      "text/plain": [
       "286"
      ]
     },
     "execution_count": 23,
     "metadata": {},
     "output_type": "execute_result"
    }
   ],
   "source": [
    "f.write(\"This program instills students the skills essential to knowledge discovery efforts to identify standard, novel, and truly differentiated solutions and decision-making, including skills in managing, querying, analyzing, visualizing, and extracting meaning from extremely large data sets.\")"
   ]
  },
  {
   "cell_type": "code",
   "execution_count": 24,
   "id": "f3bd44a5-fc91-4f6b-b94b-304da939231e",
   "metadata": {},
   "outputs": [
    {
     "data": {
      "text/plain": [
       "185"
      ]
     },
     "execution_count": 24,
     "metadata": {},
     "output_type": "execute_result"
    }
   ],
   "source": [
    "f.write(\"This trending program provides students with the statistical, mathematical and computational skills needed to meet the large-scale data science challenges of today's professional world.\")"
   ]
  },
  {
   "cell_type": "code",
   "execution_count": 25,
   "id": "2cbe27a2-4593-4b53-b61e-c82c5cd87bb5",
   "metadata": {},
   "outputs": [],
   "source": [
    "f.close()"
   ]
  },
  {
   "cell_type": "code",
   "execution_count": 26,
   "id": "7c760455-8036-4d73-b9b1-ffad68f5bbd0",
   "metadata": {},
   "outputs": [],
   "source": [
    "f = open(\"text_3.txt\", 'r')"
   ]
  },
  {
   "cell_type": "code",
   "execution_count": 27,
   "id": "2400d5f1-6d73-49c7-bd02-ec62f31946bc",
   "metadata": {},
   "outputs": [
    {
     "data": {
      "text/plain": [
       "\"I want to become a Data Scientist.\\nData Science Masters course is highly curated and uniquely designed according to the latest industry standards.\\nThis program instills students the skills essential to knowledge discovery efforts to identify standard, novel, and truly differentiated solutions and decision-making, including skills in managing, querying, analyzing, visualizing, and extracting meaning from extremely large data sets.This trending program provides students with the statistical, mathematical and computational skills needed to meet the large-scale data science challenges of today's professional world.\""
      ]
     },
     "execution_count": 27,
     "metadata": {},
     "output_type": "execute_result"
    }
   ],
   "source": [
    "f.read()"
   ]
  },
  {
   "cell_type": "code",
   "execution_count": 28,
   "id": "97cfb836-1069-4ab6-90ad-a7be27f10e9a",
   "metadata": {},
   "outputs": [
    {
     "name": "stdout",
     "output_type": "stream",
     "text": [
      "I want to become a Data Scientist.\n",
      "\n"
     ]
    }
   ],
   "source": [
    "f.seek(0)\n",
    "print(f.readline())"
   ]
  },
  {
   "cell_type": "code",
   "execution_count": 29,
   "id": "dc297035-db32-4c33-b2a6-0203699c23c2",
   "metadata": {},
   "outputs": [
    {
     "data": {
      "text/plain": [
       "['I want to become a Data Scientist.\\n',\n",
       " 'Data Science Masters course is highly curated and uniquely designed according to the latest industry standards.\\n',\n",
       " \"This program instills students the skills essential to knowledge discovery efforts to identify standard, novel, and truly differentiated solutions and decision-making, including skills in managing, querying, analyzing, visualizing, and extracting meaning from extremely large data sets.This trending program provides students with the statistical, mathematical and computational skills needed to meet the large-scale data science challenges of today's professional world.\"]"
      ]
     },
     "execution_count": 29,
     "metadata": {},
     "output_type": "execute_result"
    }
   ],
   "source": [
    "f.seek(0)\n",
    "f.readlines()"
   ]
  },
  {
   "cell_type": "markdown",
   "id": "149881b7-d885-46f5-adf1-4b8c7fa1dba2",
   "metadata": {},
   "source": [
    "5) Explain why with statement is used with open(). What is the advantage of using with statement and open() together?\n",
    "\n",
    "with statement is used with open() function to open a file.\n",
    "- a major advantage is that at the time of opening a file “with statement” creates an execution block and object created in the with statement will be destroyed or gracefully closed when this execution block ends it means it automatically called the close() function, we don't need to mutually call the close() function.\n",
    "- This will help when we are working on a big projects where we used to check many conditions after open up a file where there will be a high chance that our mutually called close() function will not get executed due to some reasons. "
   ]
  },
  {
   "cell_type": "markdown",
   "id": "5b178767-edbd-4e1f-beb3-aa560ba71db6",
   "metadata": {},
   "source": [
    "6) Explain the write() and writelines() functions. Give a suitable example.\n",
    "\n",
    "- Difference Between Write and WriteLine:\n",
    "- In write() function we must need to pass a single string that we want to add in our file. While writelines() is used to enter multiple various strings at a single time by passing a list of strings as argument."
   ]
  },
  {
   "cell_type": "code",
   "execution_count": 6,
   "id": "f1141926-6ca3-47ee-b8e0-bf30ae562ff1",
   "metadata": {},
   "outputs": [],
   "source": [
    "f = open(\"text_5.txt\", 'w')"
   ]
  },
  {
   "cell_type": "code",
   "execution_count": 7,
   "id": "c8627112-ae39-4898-8a6b-dd95a7bf18c6",
   "metadata": {},
   "outputs": [
    {
     "data": {
      "text/plain": [
       "39"
      ]
     },
     "execution_count": 7,
     "metadata": {},
     "output_type": "execute_result"
    }
   ],
   "source": [
    "f.write(\"This is my write function. \")\n",
    "f.write(\"This is second line of write function.\\n\")"
   ]
  },
  {
   "cell_type": "code",
   "execution_count": 8,
   "id": "df96bc2d-e62a-4e22-88a8-20f215c2d187",
   "metadata": {},
   "outputs": [
    {
     "data": {
      "text/plain": [
       "64"
      ]
     },
     "execution_count": 8,
     "metadata": {},
     "output_type": "execute_result"
    }
   ],
   "source": [
    "# Write() function with new-line character\n",
    "f.write(\"I'm Tapan Kheni.\\n\")\n",
    "f.write(\"Right now I'm pursuing Data Science Masters Course at PW Skills.\")"
   ]
  },
  {
   "cell_type": "code",
   "execution_count": 9,
   "id": "3ae2d869-f52f-4f1b-a8c6-6019ab71c2ac",
   "metadata": {},
   "outputs": [],
   "source": [
    "# Writelines() method \n",
    "f.writelines([\"I am very happy by purchasing this particular course.\", \n",
    "              \"I hope that this course will help me to become a good Data Scientist.\"])"
   ]
  },
  {
   "cell_type": "code",
   "execution_count": 10,
   "id": "282c84cc-441d-4190-92cc-c1e7581920fd",
   "metadata": {},
   "outputs": [],
   "source": [
    "f.close()"
   ]
  },
  {
   "cell_type": "code",
   "execution_count": 11,
   "id": "5db5f42a-6108-4788-a6ef-cf73224283f9",
   "metadata": {},
   "outputs": [],
   "source": [
    "f = open(\"text_5.txt\", 'r')"
   ]
  },
  {
   "cell_type": "code",
   "execution_count": 12,
   "id": "33ca4246-cebd-4908-9300-d7efe7af65a8",
   "metadata": {},
   "outputs": [
    {
     "data": {
      "text/plain": [
       "\"This is my write function. This is second line of write function.\\nI'm Tapan Kheni.\\nRight now I'm pursuing Data Science Masters Course at PW Skills.I am very happy by purchasing this particular course.I hope that this course will help me to become a good Data Scientist.\""
      ]
     },
     "execution_count": 12,
     "metadata": {},
     "output_type": "execute_result"
    }
   ],
   "source": [
    "f.read()"
   ]
  },
  {
   "cell_type": "code",
   "execution_count": null,
   "id": "047b184e-bb9f-44c3-bad2-2142eaa0d5d4",
   "metadata": {},
   "outputs": [],
   "source": []
  }
 ],
 "metadata": {
  "kernelspec": {
   "display_name": "Python 3 (ipykernel)",
   "language": "python",
   "name": "python3"
  },
  "language_info": {
   "codemirror_mode": {
    "name": "ipython",
    "version": 3
   },
   "file_extension": ".py",
   "mimetype": "text/x-python",
   "name": "python",
   "nbconvert_exporter": "python",
   "pygments_lexer": "ipython3",
   "version": "3.10.8"
  }
 },
 "nbformat": 4,
 "nbformat_minor": 5
}
