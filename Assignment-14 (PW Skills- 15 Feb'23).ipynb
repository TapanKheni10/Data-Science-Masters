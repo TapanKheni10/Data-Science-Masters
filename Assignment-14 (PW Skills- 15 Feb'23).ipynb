{
 "cells": [
  {
   "cell_type": "markdown",
   "id": "c93c902f-c944-4d1a-b41d-d3135b3c793c",
   "metadata": {},
   "source": [
    "1) What is multiprocessing in python? Why is it useful?\n",
    "\n",
    "Multiprocessing is basically a feature of Python which allows us to use required number of processor cores at any point of time.\n",
    "- It is useful when we need to run multiple instances of a program/function in a parallel manner not in one by one manner.\n",
    "- Through the concept of multiprocessing, we will be able to do efficient utilization of shareable resources and time."
   ]
  },
  {
   "cell_type": "markdown",
   "id": "4f6fcb06-f350-4f62-aa82-b197f76b5a3c",
   "metadata": {},
   "source": [
    "2) What are the differences between multiprocessing and multithreading?\n",
    "\n",
    "Differences between multithreading and multiprocessing:\n",
    "- In multithreading, we will be able to run multiple instances of a program/function into a single processor core whereas in multiprocessing we will be able to do the same thing but into different processor cores.\n",
    "- In multithreading, all the instances of a program are being execueted in an alternate manner whereas in multiprocessing all the instances are being executed in a parallel manner.\n",
    "- Both have their own pros and cons in terms of utilization of space and time, multithreading is more and less efficient respectively. multiprocessing behaves exactly opposite to it in respective cases. "
   ]
  },
  {
   "cell_type": "markdown",
   "id": "cd16505b-2fc6-48da-bb40-2c94b252269d",
   "metadata": {},
   "source": [
    "3) Write a python code to create a process using the multiprocessing module."
   ]
  },
  {
   "cell_type": "code",
   "execution_count": 3,
   "id": "c6c8e33d-03a3-44c1-a2ac-e76a2033b880",
   "metadata": {},
   "outputs": [
    {
     "name": "stdout",
     "output_type": "stream",
     "text": [
      "Welcome to PW Skills Tapan!!\n",
      "Congratulations!! You've successfully enrolled in Data Science Masters course.\n",
      "------------------------------------------------------\n",
      "Welcome to PW Skills Sudhanshu!!\n",
      "Congratulations!! You've successfully enrolled in Data Science Masters course.\n",
      "------------------------------------------------------\n",
      "Welcome to PW Skills Krish!!\n",
      "Congratulations!! You've successfully enrolled in Data Science Masters course.\n",
      "------------------------------------------------------\n",
      "Welcome to PW Skills Alakh!!\n",
      "Congratulations!! You've successfully enrolled in Data Science Masters course.\n",
      "------------------------------------------------------\n"
     ]
    }
   ],
   "source": [
    "import multiprocessing \n",
    "\n",
    "# Child function\n",
    "def greet_user():\n",
    "    print(\"Congratulations!! You've successfully enrolled in Data Science Masters course.\")\n",
    "    \n",
    "# Parent function\n",
    "if __name__ == \"__main__\":\n",
    "    for i in [\"Tapan\", \"Sudhanshu\", \"Krish\", \"Alakh\"]:\n",
    "        print(\"Welcome to PW Skills \" + i + \"!!\")\n",
    "# instance of a child function       \n",
    "        m = multiprocessing.Process(target = greet_user)\n",
    "        m.start()\n",
    "        m.join()\n",
    "        print(\"------------------------------------------------------\")"
   ]
  },
  {
   "cell_type": "markdown",
   "id": "6b0a6294-e86b-460d-ba66-adfad3621538",
   "metadata": {},
   "source": [
    "4) What is a multiprocessing pool in python? Why is it used?\n",
    "\n",
    "Multiprocessing pool is Python functionality through which we will be able to pass a Pool of data during multiprocessing.\n",
    "Pool is basically defined as a collection/group of data.\n",
    "\n",
    "it divide whole process into a group of processes and assign a fucntion-value pair to each and every processes. \n",
    "- If we want to perform a specific task with each and every element of an iterable object in a parallel manner then we can make use of multiprocessing pool."
   ]
  },
  {
   "cell_type": "markdown",
   "id": "01c91cd1-698e-4790-bbbb-004d1caa92ec",
   "metadata": {},
   "source": [
    "5) How can we create a pool of worker processes in python using the multiprocessing module? "
   ]
  },
  {
   "cell_type": "code",
   "execution_count": 4,
   "id": "a04b6f64-0cd8-459e-a2cc-d575554a2081",
   "metadata": {},
   "outputs": [
    {
     "name": "stdout",
     "output_type": "stream",
     "text": [
      "[10, 20, 30, 40, 50, 60, 70, 80, 90, 100]\n"
     ]
    }
   ],
   "source": [
    "import multiprocessing \n",
    "\n",
    "def multiply_10(num):\n",
    "    return num*10\n",
    "\n",
    "if __name__ == \"__main__\":\n",
    "#     It will split the whole data into 5 different processes.\n",
    "    with multiprocessing.Pool(processes=5) as pool:\n",
    "        result = pool.map(multiply_10, [1,2,3,4,5,6,7,8,9,10])\n",
    "        print(result)"
   ]
  },
  {
   "cell_type": "markdown",
   "id": "5b17a394-548d-43d9-892e-3006d7a07894",
   "metadata": {},
   "source": [
    "6) Write a python program to create 4 processes, each process should print a different number using the multiprocessing module in python."
   ]
  },
  {
   "cell_type": "code",
   "execution_count": 28,
   "id": "df64a79d-f4f1-439a-ba20-51288be51426",
   "metadata": {},
   "outputs": [
    {
     "name": "stdout",
     "output_type": "stream",
     "text": [
      "\n",
      " 5\n",
      "\n",
      " 8\n",
      "\n",
      " 4\n",
      "\n",
      " 9\n"
     ]
    }
   ],
   "source": [
    "import multiprocessing\n",
    "import random\n",
    "\n",
    "global_list = []\n",
    "\n",
    "def print_random_number():\n",
    "    global global_list\n",
    "    lst = [1,2,3,4,5,6,7,8,9,10]\n",
    "    random_element = random.choice(lst)\n",
    "    if random_element in global_list:\n",
    "        print_random_number()\n",
    "    else:\n",
    "        global_list.append(random_element) \n",
    "        print(\"\\n {}\".format(random_element))\n",
    "        \n",
    "if __name__ == \"__main__\":\n",
    "    m1 = multiprocessing.Process(target = print_random_number)\n",
    "    m2 = multiprocessing.Process(target = print_random_number)\n",
    "    m3 = multiprocessing.Process(target = print_random_number)\n",
    "    m4 = multiprocessing.Process(target = print_random_number)\n",
    "    m1.start()\n",
    "    m1.join()\n",
    "    m2.start()\n",
    "    m2.join()\n",
    "    m3.start()\n",
    "    m3.join()\n",
    "    m4.start()\n",
    "    m4.join()"
   ]
  }
 ],
 "metadata": {
  "kernelspec": {
   "display_name": "Python 3 (ipykernel)",
   "language": "python",
   "name": "python3"
  },
  "language_info": {
   "codemirror_mode": {
    "name": "ipython",
    "version": 3
   },
   "file_extension": ".py",
   "mimetype": "text/x-python",
   "name": "python",
   "nbconvert_exporter": "python",
   "pygments_lexer": "ipython3",
   "version": "3.10.8"
  }
 },
 "nbformat": 4,
 "nbformat_minor": 5
}
