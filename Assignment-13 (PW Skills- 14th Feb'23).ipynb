{
 "cells": [
  {
   "cell_type": "markdown",
   "id": "3fb5d5d2-b79a-4a08-b252-9aa5d4dc6380",
   "metadata": {},
   "source": [
    "1) What is multithreading in python? Why is it used? Name the module used to handle threads in python.\n",
    "\n",
    "- Multithreading is a process thorugh which we will be able to execute multiple instances of a  particular function within a single processor core. In other words, it is a feature of python which will allow us to execute a function for different inputs each and every time without calling it multiple time.\n",
    "- It is also being used in case of shareable resources.\n",
    "- Module used to handle threads in python : **threading** \n"
   ]
  },
  {
   "cell_type": "markdown",
   "id": "bf38ac9d-82b3-4ebe-8b82-f7e26cc3991c",
   "metadata": {},
   "source": [
    "2) Why threading module used? Write the use of the following functions:\n",
    " - activeCount()\n",
    " - currentThread()\n",
    " - enumerate()\n",
    " \n",
    "threading module is basically used to handle threads in python. it helps us to implement the concept of threading in our python code.\n",
    "\n",
    "- activeCount(): It is used to find out total number of thread objects currently alive.\n",
    "- currentThread(): Return the current Thread object, corresponding to the caller's thread of control.\n",
    "\n",
    "both of the above mentioned function are deprecated so we can make use of active_count() and current_thread() instead.\n",
    "\n",
    "- enumerate(): Return a list of all Thread objects currently alive.\n"
   ]
  },
  {
   "cell_type": "markdown",
   "id": "9212ff97-ca47-487b-855d-65d48a0af0d3",
   "metadata": {},
   "source": [
    "3) Explain the following functions:\n",
    " \n",
    "- run(): This method is basically representing the thread's activity. It will automatically get called for each and every args element. We will be able to execute it manually by overwriting the standard run() method.\n",
    "- start(): Start the thread's activity. It must be called at most once per thread object. it provides an environment for the run function to execute itself. This method will raise a RuntimeError if called more than once on the same thread object.\n",
    "- join(): Wait until the thread terminates. it used to free the resources occupied by a particular thread after it execution.\n",
    "- isAlive(): this method returns whether the thread is alive. if it returns True then and then only run() method is going to execute itself for a particular thread."
   ]
  },
  {
   "cell_type": "markdown",
   "id": "8d98eccf-2dc5-4b0f-a35a-745a9bce0a58",
   "metadata": {},
   "source": [
    "4) Write a python program to create two threads. Thread one must print the list of squares and thread two must print the list of cubes"
   ]
  },
  {
   "cell_type": "code",
   "execution_count": 10,
   "id": "b2c13f13-9f0b-40f3-b7c0-0b850ab6002c",
   "metadata": {},
   "outputs": [
    {
     "name": "stdout",
     "output_type": "stream",
     "text": [
      "Squares using threading:\n",
      "[1]\n",
      "[1, 4]\n",
      "[1, 4, 9]\n",
      "[1, 4, 9, 16]\n",
      "[1, 4, 9, 16, 25]\n",
      "Cubes using threading:\n",
      "[1]\n",
      "[1, 8]\n",
      "[1, 8, 27]\n",
      "[1, 8, 27, 64]\n",
      "[1, 8, 27, 64, 125]\n"
     ]
    }
   ],
   "source": [
    "import threading\n",
    "\n",
    "list1 = list()\n",
    "list2 = list()\n",
    "def square(num):\n",
    "    list1.append(num**2)\n",
    "    print(list1)\n",
    "def cube(num):\n",
    "    list2.append(num**3)\n",
    "    print(list2)\n",
    "\n",
    "thread1 = [threading.Thread(target=square, args=(i, )) for i in [1,2,3,4,5]]\n",
    "thread2 = [threading.Thread(target=cube, args=(i, )) for i in [1,2,3,4,5]]\n",
    "\n",
    "print(\"Squares using threading:\")\n",
    "for t in thread1:\n",
    "    t.start()\n",
    "    t.join()\n",
    "print(\"Cubes using threading:\")\n",
    "for t in thread2:\n",
    "    t.start()\n",
    "    t.join()"
   ]
  },
  {
   "cell_type": "markdown",
   "id": "d28fd18c-bafc-458b-9e69-1599e6de2992",
   "metadata": {},
   "source": [
    "5) State advantages and disadvantages of multithreading.\n",
    "\n",
    "Advantages:\n",
    "- Since the threads are independent of each other, the user is not blocked.\n",
    "- Since the threads do parallel execution, the resources of the device can be used efficiently.\n",
    "- Enhance the performance of the multi-processor machines.\n",
    "\n",
    "Disadvantages:\n",
    "- The complexity increases with the increase in the number of threads.\n",
    "- It is necessary to maintain synchronization while sharing the resources among multiple threads.\n",
    "- It is difficult to debug the programs with threads as the result is sometimes unpredictable."
   ]
  },
  {
   "cell_type": "markdown",
   "id": "23be52d9-113c-462b-b566-d9ec86c34545",
   "metadata": {},
   "source": [
    "6) Explain deadlocks and race conditions.\n",
    "\n",
    "Deadlock:\n",
    "- This happens when 2 or more threads are waiting on each other to release the resource for infinite amount of time.\n",
    "- In this the threads are in blocked state and not executing.\n",
    "\n",
    "Race condition:\n",
    "- This happens when 2 or more threads run in parallel but end up giving a result which is wrong and not equivalent if all the operations are done in sequential order.\n",
    "- Here all the threads run and execute there operations."
   ]
  },
  {
   "cell_type": "code",
   "execution_count": null,
   "id": "d91c7f5f-17ce-4568-9252-4bb577b3dcdd",
   "metadata": {},
   "outputs": [],
   "source": []
  }
 ],
 "metadata": {
  "kernelspec": {
   "display_name": "Python 3 (ipykernel)",
   "language": "python",
   "name": "python3"
  },
  "language_info": {
   "codemirror_mode": {
    "name": "ipython",
    "version": 3
   },
   "file_extension": ".py",
   "mimetype": "text/x-python",
   "name": "python",
   "nbconvert_exporter": "python",
   "pygments_lexer": "ipython3",
   "version": "3.10.8"
  }
 },
 "nbformat": 4,
 "nbformat_minor": 5
}
