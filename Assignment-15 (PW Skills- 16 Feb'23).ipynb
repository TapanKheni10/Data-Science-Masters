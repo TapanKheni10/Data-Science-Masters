{
 "cells": [
  {
   "cell_type": "markdown",
   "id": "69b79735-35cf-439c-b0ce-8c79b249922a",
   "metadata": {},
   "source": [
    "1) What is a database? Differentiate between SQL and NoSQL databases.\n",
    "\n",
    "Database is basically defined as a collection of inter-related data which is available for us 24 x 7.\n",
    "\n",
    "difference between SQL and NoSQL:\n",
    "- SQL databases are used to store data in a structured manner which means it is going to store data in tabular form (Just like excel sheet).\n",
    "- NoSQL databases are used to store data which is available in an unstructured manner (in the form of images, video file, audio file, text etc.)."
   ]
  },
  {
   "cell_type": "markdown",
   "id": "17d864db-df03-41f1-bd71-7d79b7010eab",
   "metadata": {},
   "source": [
    "2) What is DDL? Explain why CREATE, DROP, ALTER, and TRUNCATE are used with an example.\n",
    "\n",
    "DDL stands for Data Definition Language.\n",
    "\n",
    "DDL commands are used to define the structure of data.\n",
    "\n",
    "- CREATE: it is used to create databases and tables in our system. **ex: CREATE database test_1** (this command will create a database named test_1), **ex: CREATE table test_1.test_table(columns of a respective table)** (this command will create a table named test_table in test_1 database.)\n",
    "- DROP: it is used to delete/drop the entire database or a table of that particular database. **ex: DROP DATABASE test_1** (this command is responsible for deleting the database named test_1), **ex: DROP TABLE test_1.test_table** (this will delete a table named as test_table in test_1 database.)\n",
    "- ALTER: it is used when we want to add or remove columns inside a table. **ex: ALTER TABLE test_table ADD (column_name  datatype)** (through this command we will be able to add a particular column inside our database.)\n",
    "- TRUNCATE: it is used to delete the data inside a table but not the table itself. **ex: TRUNCATE TABLE test_table** (it is responsible for deleting the content present inside test_table.)"
   ]
  },
  {
   "cell_type": "markdown",
   "id": "50cf6cbf-c110-48f6-b1f0-229cae38d5d5",
   "metadata": {},
   "source": [
    "3) What is DML? Explain INSERT, UPDATE, and DELETE with an example.\n",
    "\n",
    "DML stands for Data Manipulation Language.\n",
    "\n",
    "DML commands are used when we want to enter or modify or delete a particular amount of data.\n",
    "\n",
    "- INSERT: it is helpful when we want to insert the data inside a table (single tuple at a time). **ex: INSERT TABLE table_name VALUES (values with respective to the columns)**\n",
    "- UPDATE: it is used when we want to modify a particular data present inside a table. **ex: UPDATE test_1 SET c1 = 'pwskills' WHERE c3 = 1**\n",
    "- DELETE: it is used to delete records present inside a table. **ex: DELETE FROM test_1 WHERE c3 = 'xyz'**"
   ]
  },
  {
   "cell_type": "markdown",
   "id": "846bc3e4-96d7-4325-9da0-d34f0ac39439",
   "metadata": {},
   "source": [
    "4) What is DQL? Explain SELECT with an example.\n",
    "\n",
    "DQL stands for Data Query Language.\n",
    "\n",
    "DQL commands are used when we want to fetch the data from database/tables.\n",
    "- SELECT: it is used to fetch the entire data present inside a table/tables or data which setisfies a given condition or only few columns present inside a table/tables.\n",
    "\n",
    "ex: SELECT * FROM test_1 ** (this will select the entire data of a table named test_1)"
   ]
  },
  {
   "cell_type": "markdown",
   "id": "f1c20d6a-fa27-4d77-a46e-acdd99755a3e",
   "metadata": {},
   "source": [
    "5) Explain Primary Key and Foreign Key.\n",
    "\n",
    "- Primary key: it is defined as a single attribute or a set of attributes through which we can uniqely identify each and every tuples/records present inside a table.\n",
    "- Foreign key: it is used to establish the relationships between tables. it also known as referential integrity constraint. it's a attribute / set of attributes which took reference from primary key present inside the same table or in another table."
   ]
  },
  {
   "cell_type": "markdown",
   "id": "a6951521-7dfe-4f6a-b0eb-f1b75378cda5",
   "metadata": {},
   "source": [
    "6) Write a python code to connect MySQL to python. Explain the cursor() and execute() method.\n",
    "\n",
    "- cursor(): it enables us to interect with our database after establishing the connectivity.\n",
    "- execute(): it will allows us to perform SQL queries through python code."
   ]
  },
  {
   "cell_type": "code",
   "execution_count": null,
   "id": "790b0fc2-2b99-4b38-82ab-f3a7f140257e",
   "metadata": {},
   "outputs": [],
   "source": [
    "import mysql.connector\n",
    "\n",
    "mydb = mysql.connector.connect(\n",
    "    host=\"localhost\",\n",
    "    user=\"abc\",\n",
    "    password=\"password\"\n",
    ")\n",
    "mycursor = mydb.cursor()\n",
    "mycursor.execute()"
   ]
  },
  {
   "cell_type": "markdown",
   "id": "5ab2065a-483b-4db0-8f26-a21434e8bb7b",
   "metadata": {},
   "source": [
    "7) Give the order of execution of SQL clauses in an SQL query.\n",
    "Following is the order of execution of SQL clauses:\n",
    "- WITH (if present and chosen), FROM\n",
    "- WHERE \n",
    "- GROUP BY\n",
    "- HAVING\n",
    "- SELECT, Window functions \n",
    "- DISTINCT\n",
    "- UNION, UNION ALL\n",
    "- ORDER BY\n",
    "- LIMIT/ OFFSET"
   ]
  }
 ],
 "metadata": {
  "kernelspec": {
   "display_name": "Python 3 (ipykernel)",
   "language": "python",
   "name": "python3"
  },
  "language_info": {
   "codemirror_mode": {
    "name": "ipython",
    "version": 3
   },
   "file_extension": ".py",
   "mimetype": "text/x-python",
   "name": "python",
   "nbconvert_exporter": "python",
   "pygments_lexer": "ipython3",
   "version": "3.10.8"
  }
 },
 "nbformat": 4,
 "nbformat_minor": 5
}
