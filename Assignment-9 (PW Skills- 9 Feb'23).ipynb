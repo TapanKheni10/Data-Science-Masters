{
 "cells": [
  {
   "cell_type": "markdown",
   "id": "c718b5be-2985-4de5-8205-54e48a5a95f7",
   "metadata": {},
   "source": [
    "1) Create a vehicle class with an init method having instance variables as name_of_vehicle, max_speed and average_of_vehicle."
   ]
  },
  {
   "cell_type": "code",
   "execution_count": 24,
   "id": "5cf35ee0-95a2-49e7-afbc-f31fcc1bfc80",
   "metadata": {},
   "outputs": [],
   "source": [
    "class Vehicle:\n",
    "    def __init__(self, name, average, max_speed):\n",
    "        self.name_of_vehicle = name\n",
    "        self.average_of_vehicle = average\n",
    "        self.max_speed = max_speed"
   ]
  },
  {
   "cell_type": "markdown",
   "id": "cfd10edf-3621-48df-9941-91cd88d21def",
   "metadata": {},
   "source": [
    "2) Create a child class car from the vehicle class created in Que 1, which will inherit the vehicle class. Create a method named seating_capacity which takes capacity as an argument and returns the name of the vehicle and its seating capacity."
   ]
  },
  {
   "cell_type": "code",
   "execution_count": 27,
   "id": "18f2b21d-82af-4707-8160-a2ab62eb4e4b",
   "metadata": {},
   "outputs": [],
   "source": [
    "class Car(Vehicle):\n",
    "    def seating_capacity(self, capacity):\n",
    "        return self.name_of_vehicle, capacity"
   ]
  },
  {
   "cell_type": "code",
   "execution_count": 28,
   "id": "9ecddcdd-d381-49ac-acdd-c3330b1039f1",
   "metadata": {},
   "outputs": [],
   "source": [
    "# o1 = Vehicle(\"Toyota\", 30, 200)\n",
    "o2 = Car(\"Toyota\", 30, 200)"
   ]
  },
  {
   "cell_type": "code",
   "execution_count": 29,
   "id": "9d031164-b255-489a-a2f3-c5054837eb11",
   "metadata": {},
   "outputs": [
    {
     "data": {
      "text/plain": [
       "('Toyota', 5)"
      ]
     },
     "execution_count": 29,
     "metadata": {},
     "output_type": "execute_result"
    }
   ],
   "source": [
    "o2.seating_capacity(5)"
   ]
  },
  {
   "cell_type": "markdown",
   "id": "a65eac84-dc7a-407d-b0fe-318312241b3f",
   "metadata": {},
   "source": [
    "3) What is multiple inheritance? Write a python code to demonstrate multiple inheritance.\n",
    "- An inheritance is called multiple inheritance When there will be a Child class which inherits the properties of more than one Parent class."
   ]
  },
  {
   "cell_type": "code",
   "execution_count": 6,
   "id": "e63761d2-98c8-4c84-9519-b14c3e38229a",
   "metadata": {},
   "outputs": [],
   "source": [
    "class Parent_1:\n",
    "    def func1(self):\n",
    "        print(\"This method is in Parent_1 class.\")\n",
    "\n",
    "class Parent_2:\n",
    "    def func2(self):\n",
    "        print(\"This method is in Parent_2 class.\")\n",
    "        \n",
    "class Child(Parent_1, Parent_2):\n",
    "    def func3(self):\n",
    "        print(\"This method is in Child class.\")"
   ]
  },
  {
   "cell_type": "code",
   "execution_count": 8,
   "id": "8074815a-57e9-4449-8b8e-2300742446e8",
   "metadata": {},
   "outputs": [
    {
     "name": "stdout",
     "output_type": "stream",
     "text": [
      "This method is in Parent_1 class.\n"
     ]
    }
   ],
   "source": [
    "obj_child = Child()\n",
    "obj_child.func1()"
   ]
  },
  {
   "cell_type": "code",
   "execution_count": 11,
   "id": "50885374-609a-4d87-9b88-90d5cb8ac9fc",
   "metadata": {},
   "outputs": [
    {
     "name": "stdout",
     "output_type": "stream",
     "text": [
      "This method is in Parent_2 class.\n",
      "This method is in Child class.\n"
     ]
    }
   ],
   "source": [
    "obj_child.func2()\n",
    "obj_child.func3()"
   ]
  },
  {
   "cell_type": "markdown",
   "id": "77b14e01-4e05-42c1-a49c-53697bdae194",
   "metadata": {},
   "source": [
    "4) What are getter and setter in python? Create a class and create a getter and a setter method in this class.\n",
    "- getter and setter are basically Property Decorators which will allow the external users to access the private or protected attributes of a particular class."
   ]
  },
  {
   "cell_type": "code",
   "execution_count": 2,
   "id": "05ca0d21-b01c-4130-81de-76c540aef2a1",
   "metadata": {},
   "outputs": [],
   "source": [
    "class bank:\n",
    "    def __init__(self, account_holder, password):\n",
    "        self.account_holder_name = account_holder\n",
    "        self.__pwd = password\n",
    "        \n",
    "    @property\n",
    "    def access_password(self):\n",
    "        return self.__pwd\n",
    "    \n",
    "    @access_password.setter\n",
    "    def set_password(self, new_password):\n",
    "        self.__pwd = new_password"
   ]
  },
  {
   "cell_type": "code",
   "execution_count": 3,
   "id": "a309405a-6e6d-469c-b70a-c265bd7115ae",
   "metadata": {},
   "outputs": [],
   "source": [
    "h1 = bank(\"Rahul\", \"ra12&@hul\")"
   ]
  },
  {
   "cell_type": "code",
   "execution_count": 4,
   "id": "5e6e0dea-aaa5-4f11-85e0-ae6d2bfb3038",
   "metadata": {},
   "outputs": [
    {
     "data": {
      "text/plain": [
       "'ra12&@hul'"
      ]
     },
     "execution_count": 4,
     "metadata": {},
     "output_type": "execute_result"
    }
   ],
   "source": [
    "h1.access_password"
   ]
  },
  {
   "cell_type": "code",
   "execution_count": 5,
   "id": "1c9420f6-dfe3-4503-bf28-b191b6e19597",
   "metadata": {},
   "outputs": [],
   "source": [
    "h1.set_password = \"Rahul@123\""
   ]
  },
  {
   "cell_type": "code",
   "execution_count": 6,
   "id": "0d44576e-d289-437c-afd9-7e3eee3f62fb",
   "metadata": {},
   "outputs": [
    {
     "data": {
      "text/plain": [
       "'Rahul@123'"
      ]
     },
     "execution_count": 6,
     "metadata": {},
     "output_type": "execute_result"
    }
   ],
   "source": [
    "h1.access_password"
   ]
  },
  {
   "cell_type": "markdown",
   "id": "487e22e2-fe1e-4136-b777-ada76ae1c90b",
   "metadata": {},
   "source": [
    "5) What is method overriding in python? Write a python code to demonstrate method overriding.\n",
    "- Method overriding is an ability of any object-oriented programming language that allows a subclass or child class to provide a specific implementation of a method that is already provided by one of its super-classes or parent classes. "
   ]
  },
  {
   "cell_type": "code",
   "execution_count": 7,
   "id": "3bae794b-3e62-4e36-b511-8b36d19568a4",
   "metadata": {},
   "outputs": [],
   "source": [
    "class Parent:\n",
    "    def __init__(self):\n",
    "        self.status = \"This is my parent class.\"\n",
    "    def show_status(self):\n",
    "        return self.status\n",
    "    \n",
    "class Child(Parent):\n",
    "    def __init__(self):\n",
    "        self.status = \"This is my child class.\"\n",
    "    def show_status(self):\n",
    "        return self.status\n",
    "    \n",
    "obj_1 = Parent()\n",
    "obj_2 = Child()"
   ]
  },
  {
   "cell_type": "code",
   "execution_count": 9,
   "id": "7936e7bc-c9a8-4397-86d7-56d32937e653",
   "metadata": {},
   "outputs": [
    {
     "data": {
      "text/plain": [
       "'This is my parent class.'"
      ]
     },
     "execution_count": 9,
     "metadata": {},
     "output_type": "execute_result"
    }
   ],
   "source": [
    "obj_1.show_status()"
   ]
  },
  {
   "cell_type": "code",
   "execution_count": 10,
   "id": "741faaee-4c53-4588-9fe4-4feef6b00794",
   "metadata": {},
   "outputs": [
    {
     "data": {
      "text/plain": [
       "'This is my child class.'"
      ]
     },
     "execution_count": 10,
     "metadata": {},
     "output_type": "execute_result"
    }
   ],
   "source": [
    "obj_2.show_status()"
   ]
  },
  {
   "cell_type": "code",
   "execution_count": null,
   "id": "2a516bc0-1be7-435a-b2c8-67b0db7f210e",
   "metadata": {},
   "outputs": [],
   "source": []
  }
 ],
 "metadata": {
  "kernelspec": {
   "display_name": "Python 3 (ipykernel)",
   "language": "python",
   "name": "python3"
  },
  "language_info": {
   "codemirror_mode": {
    "name": "ipython",
    "version": 3
   },
   "file_extension": ".py",
   "mimetype": "text/x-python",
   "name": "python",
   "nbconvert_exporter": "python",
   "pygments_lexer": "ipython3",
   "version": "3.10.8"
  }
 },
 "nbformat": 4,
 "nbformat_minor": 5
}
