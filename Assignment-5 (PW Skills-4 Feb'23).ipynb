{
 "cells": [
  {
   "cell_type": "markdown",
   "id": "df4d5f2a-cfbd-491f-8a8f-b5e6051e7564",
   "metadata": {},
   "source": [
    "1) Create a python program to sort the given list of tuples based on integer value using a\n",
    "lambda function."
   ]
  },
  {
   "cell_type": "code",
   "execution_count": 7,
   "id": "34f50372-2614-4849-a30b-9dd8d5b64933",
   "metadata": {},
   "outputs": [
    {
     "name": "stdout",
     "output_type": "stream",
     "text": [
      "[('Virat Kohli', 24936), ('Jack Kallis', 25534), ('Ricky Ponting', 27483), ('Sachin Tendulkar', 34357)]\n"
     ]
    }
   ],
   "source": [
    "lst=[('Sachin Tendulkar', 34357), ('Ricky Ponting', 27483), ('Jack Kallis', 25534), ('Virat Kohli', 24936)]\n",
    "# sorted()\n",
    "def sorting_criteria(l):\n",
    "    return l[1]\n",
    "lst.sort(key=sorting_criteria)\n",
    "print(lst)"
   ]
  },
  {
   "cell_type": "markdown",
   "id": "11b2aad3-8bf0-4c44-ab33-932ba6a332fe",
   "metadata": {},
   "source": [
    "2) Write a Python Program to find the squares of all the numbers in the given list of integers using\n",
    "lambda and map functions."
   ]
  },
  {
   "cell_type": "code",
   "execution_count": 9,
   "id": "c07736e7-83be-4a6c-927c-fe5d5f4b123d",
   "metadata": {},
   "outputs": [
    {
     "data": {
      "text/plain": [
       "[1, 4, 9, 16, 25, 36, 49, 64, 81, 100]"
      ]
     },
     "execution_count": 9,
     "metadata": {},
     "output_type": "execute_result"
    }
   ],
   "source": [
    "lst = [1, 2, 3, 4, 5, 6, 7, 8, 9, 10]\n",
    "\n",
    "list(map(lambda x: x**2, lst))"
   ]
  },
  {
   "cell_type": "markdown",
   "id": "ae73727c-6e58-4a93-9228-55c7f43c76f9",
   "metadata": {},
   "source": [
    "3) Write a python program to convert the given list of integers into a tuple of strings. Use map and\n",
    "lambda functions"
   ]
  },
  {
   "cell_type": "code",
   "execution_count": 10,
   "id": "65dba641-4988-4de5-b165-178648113e7a",
   "metadata": {},
   "outputs": [
    {
     "data": {
      "text/plain": [
       "('1', '2', '3', '4', '5', '6', '7', '8', '9', '10')"
      ]
     },
     "execution_count": 10,
     "metadata": {},
     "output_type": "execute_result"
    }
   ],
   "source": [
    "lst = [1, 2, 3, 4, 5, 6, 7, 8, 9, 10]\n",
    "\n",
    "tuple(map(lambda x: str(x), lst))"
   ]
  },
  {
   "cell_type": "markdown",
   "id": "bed8dd33-d6fe-4b48-99df-daf2b10e37d7",
   "metadata": {},
   "source": [
    "4) Write a python program using reduce function to compute the product of a list containing numbers\n",
    "from 1 to 25."
   ]
  },
  {
   "cell_type": "code",
   "execution_count": 18,
   "id": "073cd645-3969-46ae-8b0b-e60e53b33663",
   "metadata": {},
   "outputs": [
    {
     "data": {
      "text/plain": [
       "15511210043330985984000000"
      ]
     },
     "execution_count": 18,
     "metadata": {},
     "output_type": "execute_result"
    }
   ],
   "source": [
    "lst = [x for x in range(1, 26)]\n",
    "# print(lst)\n",
    "from functools import reduce\n",
    "reduce(lambda a,b:a*b, lst)"
   ]
  },
  {
   "cell_type": "markdown",
   "id": "a5cc9c03-cb0c-4c27-9425-482b0cc18f95",
   "metadata": {},
   "source": [
    "5) Write a python program to filter the numbers in a given list that are divisible by 2 and 3 using the\n",
    "filter function."
   ]
  },
  {
   "cell_type": "code",
   "execution_count": 21,
   "id": "b7c1f0ac-afe7-4897-ac29-68c073c9242f",
   "metadata": {},
   "outputs": [
    {
     "data": {
      "text/plain": [
       "[6, 60, 90, 120]"
      ]
     },
     "execution_count": 21,
     "metadata": {},
     "output_type": "execute_result"
    }
   ],
   "source": [
    "lst = [2, 3, 6, 9, 27, 60, 90, 120, 55, 46]\n",
    "def isDivisible(x):\n",
    "    if x%6==0:\n",
    "        return x\n",
    "list(filter(isDivisible, lst))"
   ]
  },
  {
   "cell_type": "markdown",
   "id": "b0f6c300-09ec-456d-ac52-0b8c62883286",
   "metadata": {},
   "source": [
    "6) Write a python program to find palindromes in the given list of strings using lambda and filter\n",
    "function."
   ]
  },
  {
   "cell_type": "code",
   "execution_count": 24,
   "id": "f1d7bb0a-7abc-4923-b9cc-b02c3082f8da",
   "metadata": {},
   "outputs": [
    {
     "data": {
      "text/plain": [
       "['php', 'aba', 'radar', 'level']"
      ]
     },
     "execution_count": 24,
     "metadata": {},
     "output_type": "execute_result"
    }
   ],
   "source": [
    "lst = ['python', 'php', 'aba', 'radar', 'level']\n",
    "def isPalindrome(s):\n",
    "    for i in range(round(len(s)/2)):\n",
    "        if s[i] != s[len(s)-1-i]:\n",
    "            return False\n",
    "    return True\n",
    "y = None\n",
    "list(filter(lambda x: x if isPalindrome(x) else y, lst))\n"
   ]
  },
  {
   "cell_type": "code",
   "execution_count": null,
   "id": "1a98e880-faea-4b01-8c1a-45611b6bea78",
   "metadata": {},
   "outputs": [],
   "source": []
  }
 ],
 "metadata": {
  "kernelspec": {
   "display_name": "Python 3 (ipykernel)",
   "language": "python",
   "name": "python3"
  },
  "language_info": {
   "codemirror_mode": {
    "name": "ipython",
    "version": 3
   },
   "file_extension": ".py",
   "mimetype": "text/x-python",
   "name": "python",
   "nbconvert_exporter": "python",
   "pygments_lexer": "ipython3",
   "version": "3.10.8"
  }
 },
 "nbformat": 4,
 "nbformat_minor": 5
}
