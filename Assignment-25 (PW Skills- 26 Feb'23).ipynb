{
 "cells": [
  {
   "cell_type": "code",
   "execution_count": 10,
   "id": "e5ac30c3-3fa1-4e12-9927-ca974c088392",
   "metadata": {},
   "outputs": [],
   "source": [
    "# Consider the below code to answer further questions:\n",
    "import numpy as np\n",
    "list_ = ['1','2','3','4','5']\n",
    "array_list = np.array(list_)"
   ]
  },
  {
   "cell_type": "markdown",
   "id": "445f96c9-f76c-4b18-890f-9e8e0eb436d8",
   "metadata": {},
   "source": [
    "1) Is there any difference in the data type of variables list_ and array_list? If there is then write a code to print the data types of both the variables.\n",
    "- Yes there is a difference in the data type of list_ and array_list."
   ]
  },
  {
   "cell_type": "code",
   "execution_count": 11,
   "id": "45730331-0d9d-4917-910a-69a7589c4628",
   "metadata": {},
   "outputs": [
    {
     "name": "stdout",
     "output_type": "stream",
     "text": [
      "<class 'list'>\n",
      "<class 'numpy.ndarray'>\n"
     ]
    }
   ],
   "source": [
    "print(type(list_))\n",
    "print(type(array_list))"
   ]
  },
  {
   "cell_type": "markdown",
   "id": "b8cbd5d7-1902-47da-8a57-e8111538ca6f",
   "metadata": {},
   "source": [
    "2) Write a code to print the data type of each and every element of both the variables list_ and arra_list."
   ]
  },
  {
   "cell_type": "code",
   "execution_count": 12,
   "id": "6349e5fa-0a40-4888-9f04-705f9b3fff52",
   "metadata": {},
   "outputs": [
    {
     "data": {
      "text/plain": [
       "dtype('<U1')"
      ]
     },
     "execution_count": 12,
     "metadata": {},
     "output_type": "execute_result"
    }
   ],
   "source": [
    "array_list.dtype"
   ]
  },
  {
   "cell_type": "code",
   "execution_count": 13,
   "id": "84c4970c-a080-4253-85a2-fda1b6e00b3b",
   "metadata": {},
   "outputs": [
    {
     "name": "stdout",
     "output_type": "stream",
     "text": [
      "<class 'str'> <class 'str'> <class 'str'> <class 'str'> <class 'str'> "
     ]
    }
   ],
   "source": [
    "for i in list_:\n",
    "    print(type(i),end=\" \")"
   ]
  },
  {
   "cell_type": "markdown",
   "id": "ee0b3f54-7001-47d5-b198-0c0c83966bd7",
   "metadata": {},
   "source": [
    "3) Considering the following changes in the variable, array_list:\n"
   ]
  },
  {
   "cell_type": "code",
   "execution_count": 14,
   "id": "d06ef8a5-6dff-4bcd-8656-592d9536e5de",
   "metadata": {},
   "outputs": [],
   "source": [
    "array_list = np.array(object = list_, dtype = int)"
   ]
  },
  {
   "cell_type": "markdown",
   "id": "19872573-7e21-471f-b293-46992ddc0d0b",
   "metadata": {},
   "source": [
    "Will there be any difference in the data type of the elements present in both the variables, list_ and\n",
    "arra_list? If so then print the data types of each and every element present in both the variables, list_\n",
    "and arra_list.\n",
    "\n",
    "- Yes there is a difference in case of array_list but not in case of list_."
   ]
  },
  {
   "cell_type": "code",
   "execution_count": 15,
   "id": "f905b14c-2602-43c7-945f-63bccefae44f",
   "metadata": {},
   "outputs": [
    {
     "data": {
      "text/plain": [
       "dtype('int64')"
      ]
     },
     "execution_count": 15,
     "metadata": {},
     "output_type": "execute_result"
    }
   ],
   "source": [
    "array_list.dtype"
   ]
  },
  {
   "cell_type": "code",
   "execution_count": 16,
   "id": "70431616-f548-4b24-b675-3e22fa847ee7",
   "metadata": {},
   "outputs": [
    {
     "name": "stdout",
     "output_type": "stream",
     "text": [
      "<class 'str'> <class 'str'> <class 'str'> <class 'str'> <class 'str'> "
     ]
    }
   ],
   "source": [
    "for i in list_:\n",
    "    print(type(i),end=\" \")"
   ]
  },
  {
   "cell_type": "code",
   "execution_count": 18,
   "id": "6bcd8349-cb56-4a69-8185-e12acbfb11e4",
   "metadata": {},
   "outputs": [],
   "source": [
    "# Consider the below code to answer further questions:\n",
    "import numpy as np\n",
    "num_list = [ [ 1 , 2 , 3 ] , [ 4 , 5 , 6 ] ]\n",
    "num_array = np.array(object = num_list)"
   ]
  },
  {
   "cell_type": "markdown",
   "id": "1d08238a-3b1f-4a3a-8d57-b59b919927e2",
   "metadata": {},
   "source": [
    "4) Write a code to find the following characteristics of variable, num_array: (i) shape (ii) size"
   ]
  },
  {
   "cell_type": "code",
   "execution_count": 21,
   "id": "a87d7ab8-9f73-4a6e-b574-9b3b3e39dc51",
   "metadata": {},
   "outputs": [
    {
     "data": {
      "text/plain": [
       "(2, 3)"
      ]
     },
     "execution_count": 21,
     "metadata": {},
     "output_type": "execute_result"
    }
   ],
   "source": [
    "# It gives us the total number of rows and columns present in an array.\n",
    "num_array.shape"
   ]
  },
  {
   "cell_type": "code",
   "execution_count": 22,
   "id": "5aa3b414-6681-4f22-893b-94afc0bae154",
   "metadata": {},
   "outputs": [
    {
     "data": {
      "text/plain": [
       "6"
      ]
     },
     "execution_count": 22,
     "metadata": {},
     "output_type": "execute_result"
    }
   ],
   "source": [
    "# It gives us the total number of elements present inside an array.\n",
    "num_array.size"
   ]
  },
  {
   "cell_type": "markdown",
   "id": "0551ef46-7bf0-4003-8774-6b77c5807440",
   "metadata": {},
   "source": [
    "5) Write a code to create numpy array of 3*3 matrix containing zeros only, using a numpy array creation function.\n",
    "- [Hint: The size of the array will be 9 and the shape will be (3,3).]"
   ]
  },
  {
   "cell_type": "code",
   "execution_count": 24,
   "id": "81671633-51e8-40ed-b81e-f3b306c58ac2",
   "metadata": {},
   "outputs": [
    {
     "data": {
      "text/plain": [
       "array([[0., 0., 0.],\n",
       "       [0., 0., 0.],\n",
       "       [0., 0., 0.]])"
      ]
     },
     "execution_count": 24,
     "metadata": {},
     "output_type": "execute_result"
    }
   ],
   "source": [
    "arr_zeros = np.zeros((3,3))\n",
    "arr_zeros"
   ]
  },
  {
   "cell_type": "code",
   "execution_count": 26,
   "id": "a0325f27-2b6f-473e-bae2-93fee0db2ce5",
   "metadata": {},
   "outputs": [
    {
     "name": "stdout",
     "output_type": "stream",
     "text": [
      "(3, 3)\n",
      "9\n"
     ]
    }
   ],
   "source": [
    "print(arr_zeros.shape)\n",
    "print(arr_zeros.size)"
   ]
  },
  {
   "cell_type": "markdown",
   "id": "c7360715-4b07-4e25-b4b9-2ef237e7736a",
   "metadata": {},
   "source": [
    "6) Create an identity matrix of shape (5,5) using numpy functions?\n",
    "- [Hint: An identity matrix is a matrix containing 1 diagonally and other elements will be 0.]"
   ]
  },
  {
   "cell_type": "code",
   "execution_count": 28,
   "id": "7c5638fe-0e17-4c3e-98ac-b9f22f5f5682",
   "metadata": {},
   "outputs": [
    {
     "data": {
      "text/plain": [
       "array([[1., 0., 0., 0., 0.],\n",
       "       [0., 1., 0., 0., 0.],\n",
       "       [0., 0., 1., 0., 0.],\n",
       "       [0., 0., 0., 1., 0.],\n",
       "       [0., 0., 0., 0., 1.]])"
      ]
     },
     "execution_count": 28,
     "metadata": {},
     "output_type": "execute_result"
    }
   ],
   "source": [
    "arr_ide = np.eye(5)\n",
    "arr_ide"
   ]
  }
 ],
 "metadata": {
  "kernelspec": {
   "display_name": "Python 3 (ipykernel)",
   "language": "python",
   "name": "python3"
  },
  "language_info": {
   "codemirror_mode": {
    "name": "ipython",
    "version": 3
   },
   "file_extension": ".py",
   "mimetype": "text/x-python",
   "name": "python",
   "nbconvert_exporter": "python",
   "pygments_lexer": "ipython3",
   "version": "3.10.8"
  }
 },
 "nbformat": 4,
 "nbformat_minor": 5
}
