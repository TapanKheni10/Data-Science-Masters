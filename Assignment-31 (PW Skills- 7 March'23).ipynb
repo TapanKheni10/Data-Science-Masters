{
 "cells": [
  {
   "cell_type": "markdown",
   "id": "ab774c8f-cfd5-4954-848c-b846c67b6819",
   "metadata": {},
   "source": [
    "1) What are the three measures of central tendency?\n",
    "\n",
    "There are three measures of central tendency:\n",
    "- Mean\n",
    "- Median\n",
    "- Mode"
   ]
  },
  {
   "cell_type": "markdown",
   "id": "20e73dda-ea61-4c77-aa53-4535b6e4c5a9",
   "metadata": {},
   "source": [
    "2) What is the difference between the mean, median, and mode? How are they used to measure the central tendency of a dataset?\n",
    "\n",
    "- Mean basically gives us the center part or average value of a distribution of a data.\n",
    "- Median hepls us to find out center/middle value of a dataset.\n",
    "- Mode gives us the most frequent element of a dataset.\n",
    "\n",
    "And this the major difference between mean, median, mode.\n",
    "\n",
    "This is also the usecase of them as well."
   ]
  },
  {
   "cell_type": "markdown",
   "id": "61147f99-c687-42ba-ac3a-e3ba9a9c8bba",
   "metadata": {},
   "source": [
    "3) Measure the three measures of central tendency for the given height data:\n",
    "[178,177,176,177,178.2,178,175,179,180,175,178.9,176.2,177,172.5,178,176.5]"
   ]
  },
  {
   "cell_type": "code",
   "execution_count": 1,
   "id": "1f865b3a-2169-4333-92ba-b2054146bcce",
   "metadata": {},
   "outputs": [],
   "source": [
    "import numpy as np\n",
    "import scipy.stats as stat"
   ]
  },
  {
   "cell_type": "code",
   "execution_count": 4,
   "id": "5bee5b28-fde7-4be3-bf3b-72b36998afae",
   "metadata": {},
   "outputs": [
    {
     "name": "stdout",
     "output_type": "stream",
     "text": [
      "Mean of data: 177.01875\n",
      "Median of data: 177.0\n",
      "Mode of data: ModeResult(mode=array([177.]), count=array([3]))\n"
     ]
    },
    {
     "name": "stderr",
     "output_type": "stream",
     "text": [
      "/tmp/ipykernel_84/808236908.py:6: FutureWarning: Unlike other reduction functions (e.g. `skew`, `kurtosis`), the default behavior of `mode` typically preserves the axis it acts along. In SciPy 1.11.0, this behavior will change: the default value of `keepdims` will become False, the `axis` over which the statistic is taken will be eliminated, and the value None will no longer be accepted. Set `keepdims` to True or False to avoid this warning.\n",
      "  print(\"Mode of data: {}\".format(stat.mode(data)))\n"
     ]
    }
   ],
   "source": [
    "data = [178,177,176,177,178.2,178,175,179,180,175,178.9,176.2,177,172.5,178,176.5]\n",
    "print(\"Mean of data: {}\".format(np.mean(data)))\n",
    "\n",
    "print(\"Median of data: {}\".format(np.median(data)))\n",
    "\n",
    "print(\"Mode of data: {}\".format(stat.mode(data)))"
   ]
  },
  {
   "cell_type": "markdown",
   "id": "e70dcaa8-9aee-4c29-b8bd-5809f7f978a4",
   "metadata": {},
   "source": [
    "4) Find the standard deviation for the given data:\n",
    "[178,177,176,177,178.2,178,175,179,180,175,178.9,176.2,177,172.5,178,176.5]"
   ]
  },
  {
   "cell_type": "code",
   "execution_count": 5,
   "id": "ff9a3087-318a-4c71-8157-58053d0f83ef",
   "metadata": {},
   "outputs": [
    {
     "name": "stdout",
     "output_type": "stream",
     "text": [
      "standard deviation of data: 1.7885814036548633\n"
     ]
    }
   ],
   "source": [
    "data = [178,177,176,177,178.2,178,175,179,180,175,178.9,176.2,177,172.5,178,176.5]\n",
    "\n",
    "print(\"standard deviation of data: {}\".format(np.std(data)))"
   ]
  },
  {
   "cell_type": "markdown",
   "id": "29947199-2ff6-46c0-aeb6-6560150f8272",
   "metadata": {},
   "source": [
    "5) How are measures of dispersion such as range, variance, and standard deviation used to describe the spread of a dataset? Provide an example.\n",
    "\n",
    "- range: it gives us a smallest interval which contains all the elements of a dataset by subtracting highest and the lowest element. Since it depends on only two element, it more useful in case of small data set.\n",
    "- variance: it gives us the value through which we will be able to determine that how our data is spread around the mean. if variance is low then whole dataset is tightly clustered around the mean.\n",
    "- standard deviation: it tells us that how many std our particular data point is away from the mean."
   ]
  },
  {
   "cell_type": "code",
   "execution_count": 7,
   "id": "bbe71a0f-af57-47e2-aa93-1f5972612068",
   "metadata": {},
   "outputs": [
    {
     "data": {
      "text/plain": [
       "15.5475"
      ]
     },
     "execution_count": 7,
     "metadata": {},
     "output_type": "execute_result"
    }
   ],
   "source": [
    "data = [2,3,3,4,4,4,4,4,6,7,8,9,9,9,10,10,11,11,14,17]\n",
    "np.var(data)"
   ]
  },
  {
   "cell_type": "code",
   "execution_count": 9,
   "id": "fc3c7651-7527-42ae-aafe-0fef8df0c1a4",
   "metadata": {},
   "outputs": [
    {
     "data": {
      "text/plain": [
       "3.9430318284284747"
      ]
     },
     "execution_count": 9,
     "metadata": {},
     "output_type": "execute_result"
    }
   ],
   "source": [
    "np.std(data)"
   ]
  },
  {
   "cell_type": "code",
   "execution_count": 12,
   "id": "cea8ea54-0388-4b25-ba06-a50fb92456c5",
   "metadata": {},
   "outputs": [
    {
     "data": {
      "text/plain": [
       "15"
      ]
     },
     "execution_count": 12,
     "metadata": {},
     "output_type": "execute_result"
    }
   ],
   "source": [
    "np.max(data)-np.min(data)"
   ]
  },
  {
   "cell_type": "markdown",
   "id": "40327602-d66b-4bf8-bdfe-103697a81799",
   "metadata": {},
   "source": [
    "6) What is a Venn diagram?\n",
    "\n",
    "- A diagram representing mathematical or logical sets pictorially as circles or closed curves within an enclosing rectangle (the universal set)."
   ]
  },
  {
   "cell_type": "markdown",
   "id": "f6b5d0e4-6d41-4e46-9da3-c8f51c1435e9",
   "metadata": {},
   "source": [
    "7) For the two given sets A = (2,3,4,5,6,7) & B = (0,2,6,8,10). Find: (i) A B (ii) A ⋃ B"
   ]
  },
  {
   "cell_type": "code",
   "execution_count": 15,
   "id": "fc70a417-b438-4d51-85b2-d7978433db11",
   "metadata": {},
   "outputs": [
    {
     "name": "stdout",
     "output_type": "stream",
     "text": [
      "Intersection of A and B is {2, 6}\n",
      "Union of A and B is {0, 2, 3, 4, 5, 6, 7, 8, 10}\n"
     ]
    }
   ],
   "source": [
    "A = {2,3,4,5,6,7}\n",
    "B = {0,2,6,8,10}\n",
    "\n",
    "print(\"Intersection of A and B is {}\".format(A.intersection(B)))\n",
    "print(\"Union of A and B is {}\".format(A.union(B)))"
   ]
  },
  {
   "cell_type": "markdown",
   "id": "b6b79238-6b3e-4479-8212-da58a9b86311",
   "metadata": {},
   "source": [
    "8) What do you understand about skewness in data?\n",
    "\n",
    "Through skewness we will be able to undestand about the behaviour of our distribution. (Also the shape of it). we will also be able to understand that how much area of distribution falls on the left and right hand side of the mean."
   ]
  },
  {
   "cell_type": "markdown",
   "id": "9b54163d-40cf-4ff0-851f-51fe76e78f55",
   "metadata": {},
   "source": [
    "9) If a data is right skewed then what will be the position of median with respect to mean?\n",
    "\n",
    "median lies above the mean (Median > Mean)"
   ]
  },
  {
   "cell_type": "markdown",
   "id": "fd5d4721-965c-4760-9fc9-64b8bb74df92",
   "metadata": {},
   "source": [
    "10) Explain the difference between covariance and correlation. How are these measures used in statistical analysis?\n",
    "\n",
    "- Both are basically used to determine the relationship between different attributes of a dataset.\n",
    "\n",
    "- covariance only gives us the idea about +ve and -ve signs whereas correlation gives us the idea about value as well as we can identify whether relationship is perfect or not. \n"
   ]
  },
  {
   "cell_type": "markdown",
   "id": "11509d7d-a685-4531-95f7-e463418fdd6b",
   "metadata": {},
   "source": [
    "11) What is the formula for calculating the sample mean? Provide an example calculation for a dataset.\n",
    "\n",
    "Formula for calculating sample mean: \n",
    "\n",
    "** sum of all (Xi) / total number of data point **"
   ]
  },
  {
   "cell_type": "code",
   "execution_count": 3,
   "id": "0b993e1c-0b36-4f1f-8951-31ff8a72dcf4",
   "metadata": {},
   "outputs": [
    {
     "name": "stdout",
     "output_type": "stream",
     "text": [
      "Sample mean is : 21.8\n"
     ]
    }
   ],
   "source": [
    "data = [10,23,1,5,7,86,5,3,64,14]\n",
    "\n",
    "mean = sum(data) / len(data)\n",
    "print(\"Sample mean is : {}\".format(mean))"
   ]
  },
  {
   "cell_type": "markdown",
   "id": "39539e5b-7ea3-4bea-8724-ac4a72a29e70",
   "metadata": {},
   "source": [
    "12) For a normal distribution data what is the relationship between its measure of central tendency?\n",
    "\n",
    "For a normal distribution data:\n",
    "\n",
    "** mean = median = mode **\n",
    "- Which means all of this will give the same answer."
   ]
  },
  {
   "cell_type": "markdown",
   "id": "4ffbc35e-864b-48cc-9f58-4524f1c94265",
   "metadata": {},
   "source": [
    "13) How is covariance different from correlation?\n",
    "\n",
    "- Covariance only gives us the idea about +ve and -ve signs whereas correlation gives us the idea about value as well as we can identify whether relationship is perfect or not.\n",
    "- Covariance and Correlation are two terms which are exactly opposite to each other, they both are used in statistics and regression analysis, covariance shows us how the two variables vary from each other whereas correlation shows us the relationship between the two variables and how are they related."
   ]
  },
  {
   "cell_type": "markdown",
   "id": "f31256f4-0ac7-4e60-b90a-1e9849c61a75",
   "metadata": {},
   "source": [
    "14) How do outliers affect measures of central tendency and dispersion? Provide an example. \n",
    "\n",
    "- if outliers are present in data set then it has an adverse effect on measurement of central tendency and dispersion. outliers always try to attract mean towards them and also leads to incorrect result of std.\n"
   ]
  },
  {
   "cell_type": "code",
   "execution_count": 4,
   "id": "9431d02d-d339-4a9e-af7c-2dff9e7b60bc",
   "metadata": {},
   "outputs": [
    {
     "name": "stdout",
     "output_type": "stream",
     "text": [
      "Mean is: 9.3\n",
      "Standard deviation is: 5.710516614107694\n"
     ]
    }
   ],
   "source": [
    "import numpy as np\n",
    "data = [10,13,1,5,7,19,5,3,16,14]\n",
    "\n",
    "print(\"Mean is: {}\".format(np.mean(data)))\n",
    "print(\"Standard deviation is: {}\".format(np.std(data)))"
   ]
  },
  {
   "cell_type": "code",
   "execution_count": 5,
   "id": "3713d7d7-774e-45f6-9f0c-803dbc2d57df",
   "metadata": {},
   "outputs": [
    {
     "name": "stdout",
     "output_type": "stream",
     "text": [
      "Mean is: 17.545454545454547\n",
      "Standard deviation is: 26.63682903720007\n"
     ]
    }
   ],
   "source": [
    "# Let's add an outlier in data\n",
    "data = [10,13,1,5,7,19,5,3,16,14,100]\n",
    "\n",
    "print(\"Mean is: {}\".format(np.mean(data)))\n",
    "print(\"Standard deviation is: {}\".format(np.std(data)))"
   ]
  },
  {
   "cell_type": "code",
   "execution_count": null,
   "id": "54797135-0074-4591-aa70-5194546bfee5",
   "metadata": {},
   "outputs": [],
   "source": []
  }
 ],
 "metadata": {
  "kernelspec": {
   "display_name": "Python 3 (ipykernel)",
   "language": "python",
   "name": "python3"
  },
  "language_info": {
   "codemirror_mode": {
    "name": "ipython",
    "version": 3
   },
   "file_extension": ".py",
   "mimetype": "text/x-python",
   "name": "python",
   "nbconvert_exporter": "python",
   "pygments_lexer": "ipython3",
   "version": "3.10.8"
  }
 },
 "nbformat": 4,
 "nbformat_minor": 5
}
