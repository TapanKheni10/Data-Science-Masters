{
  "nbformat": 4,
  "nbformat_minor": 0,
  "metadata": {
    "colab": {
      "provenance": []
    },
    "kernelspec": {
      "name": "python3",
      "display_name": "Python 3"
    },
    "language_info": {
      "name": "python"
    }
  },
  "cells": [
    {
      "cell_type": "markdown",
      "source": [
        "### <b>PART 1: Theoretical Questions</b>"
      ],
      "metadata": {
        "id": "Z311tO2NRHzM"
      }
    },
    {
      "cell_type": "markdown",
      "source": [
        "**1) What are the different data structures used in Tensorflow?. Give some examples.**\n",
        "\n",
        "TensorFlow primarily deals with tensors, which are multi-dimensional arrays. Tensors are the fundamental data structures used for representing and manipulating data in TensorFlow.\n",
        "\n",
        "Here are some of the main data structures used in TensorFlow:\n",
        "\n",
        " - Tensor: The basic unit of data in TensorFlow. Tensors are multi-dimensional arrays with a fixed size. It can be mutable or immutable.\n"
      ],
      "metadata": {
        "id": "7YrRGbj8RYwT"
      }
    },
    {
      "cell_type": "code",
      "source": [
        "## Examples of tensor\n",
        "import tensorflow as tf\n",
        "import numpy as np\n",
        "ten_1 = tf.constant([27, 10])\n",
        "ten_2 = tf.constant(np.array([[27, 10, 27], [43, 28, 43]]))"
      ],
      "metadata": {
        "id": "Pujk1OALZlzq"
      },
      "execution_count": null,
      "outputs": []
    },
    {
      "cell_type": "markdown",
      "source": [
        "- Variable: A mutable tensor that can be modified during the execution of a program. Variables are often used to represent model parameters."
      ],
      "metadata": {
        "id": "zWUKIscaaLJA"
      }
    },
    {
      "cell_type": "code",
      "source": [
        "ten_var = tf.Variable([27, 10, 26])\n",
        "print(ten_var.numpy())\n",
        "print()\n",
        "ten_var[2].assign(27)\n",
        "print(ten_var.numpy())"
      ],
      "metadata": {
        "colab": {
          "base_uri": "https://localhost:8080/"
        },
        "id": "qELaR-IbaThI",
        "outputId": "0e852287-8d56-4410-deee-1f92731d74aa"
      },
      "execution_count": null,
      "outputs": [
        {
          "output_type": "stream",
          "name": "stdout",
          "text": [
            "[27 10 26]\n",
            "\n",
            "[27 10 27]\n"
          ]
        }
      ]
    },
    {
      "cell_type": "markdown",
      "source": [
        "- Constant: A constant tensor with fixed values that cannot be changed after creation."
      ],
      "metadata": {
        "id": "E7_bjRtQasEZ"
      }
    },
    {
      "cell_type": "code",
      "source": [
        "ten_con = tf.constant([27, 10, 26])\n",
        "print(ten_con.numpy())\n",
        "print()\n",
        "# ten_con[2].assign(27) ## This will generate an error, since the constant tensors are immutable.\n",
        "# print(ten_con.numpy())"
      ],
      "metadata": {
        "colab": {
          "base_uri": "https://localhost:8080/"
        },
        "id": "QsR2ofEqayYP",
        "outputId": "0123f8d8-e451-45f3-a4fc-5df169003cfe"
      },
      "execution_count": null,
      "outputs": [
        {
          "output_type": "stream",
          "name": "stdout",
          "text": [
            "[27 10 26]\n",
            "\n"
          ]
        }
      ]
    },
    {
      "cell_type": "markdown",
      "source": [
        "- RaggedTensor: A tensor with non-uniform shapes along one or more dimensions. It is useful for representing sequences of varying lengths."
      ],
      "metadata": {
        "id": "pxau6np4bFiN"
      }
    },
    {
      "cell_type": "code",
      "source": [
        "ten_ragged = tf.ragged.constant([[27, 10, 27], [26], [43, 28]])\n",
        "print(ten_ragged)"
      ],
      "metadata": {
        "colab": {
          "base_uri": "https://localhost:8080/"
        },
        "id": "SuebEorJbZcv",
        "outputId": "ab26a1dd-04da-4228-89d7-ad47609cb07c"
      },
      "execution_count": null,
      "outputs": [
        {
          "output_type": "stream",
          "name": "stdout",
          "text": [
            "<tf.RaggedTensor [[27, 10, 27], [26], [43, 28]]>\n"
          ]
        }
      ]
    },
    {
      "cell_type": "markdown",
      "source": [
        "2) How does the TensorFlow constant differ from a TensorFlow variable? Explain with an example.\n",
        "\n",
        "The main difference between Tensorflow constant and Tensorflow variable is that Tensorflow constants are immutable (cannot be changed after creation) in nature whereas Tensorflow variables are mutable (can be changed after creation) in nature."
      ],
      "metadata": {
        "id": "q9TqigfUbwOj"
      }
    },
    {
      "cell_type": "code",
      "source": [
        "## Try to modify the elements of Tensorflow variable\n",
        "## This will work properly since they are mutable\n",
        "ten_var = tf.Variable([27, 10, 26])\n",
        "print(ten_var.numpy())\n",
        "print()\n",
        "ten_var[2].assign(27)\n",
        "print(ten_var.numpy())"
      ],
      "metadata": {
        "colab": {
          "base_uri": "https://localhost:8080/"
        },
        "id": "yHa1twqBcOly",
        "outputId": "6861e7ea-ee38-4357-d76b-2de585a8b39b"
      },
      "execution_count": null,
      "outputs": [
        {
          "output_type": "stream",
          "name": "stdout",
          "text": [
            "[27 10 26]\n",
            "\n",
            "[27 10 27]\n"
          ]
        }
      ]
    },
    {
      "cell_type": "code",
      "source": [
        "## Try to modify the elements of Tensorflow constants\n",
        "ten_con = tf.constant([27, 10, 26])\n",
        "print(ten_con.numpy())\n",
        "print()\n",
        "ten_con[2].assign(27) ## This will generate an error, since the constant tensors are immutable.\n",
        "print(ten_con.numpy())"
      ],
      "metadata": {
        "colab": {
          "base_uri": "https://localhost:8080/",
          "height": 384
        },
        "id": "6uyPob50ceQF",
        "outputId": "d6d6a64d-700e-4162-8835-ea0d305ee56c"
      },
      "execution_count": null,
      "outputs": [
        {
          "output_type": "stream",
          "name": "stdout",
          "text": [
            "[27 10 26]\n",
            "\n"
          ]
        },
        {
          "output_type": "error",
          "ename": "AttributeError",
          "evalue": "'tensorflow.python.framework.ops.EagerTensor' object has no attribute 'assign'",
          "traceback": [
            "\u001b[0;31m---------------------------------------------------------------------------\u001b[0m",
            "\u001b[0;31mAttributeError\u001b[0m                            Traceback (most recent call last)",
            "\u001b[0;32m<ipython-input-26-8026baf0e316>\u001b[0m in \u001b[0;36m<cell line: 5>\u001b[0;34m()\u001b[0m\n\u001b[1;32m      3\u001b[0m \u001b[0mprint\u001b[0m\u001b[0;34m(\u001b[0m\u001b[0mten_con\u001b[0m\u001b[0;34m.\u001b[0m\u001b[0mnumpy\u001b[0m\u001b[0;34m(\u001b[0m\u001b[0;34m)\u001b[0m\u001b[0;34m)\u001b[0m\u001b[0;34m\u001b[0m\u001b[0;34m\u001b[0m\u001b[0m\n\u001b[1;32m      4\u001b[0m \u001b[0mprint\u001b[0m\u001b[0;34m(\u001b[0m\u001b[0;34m)\u001b[0m\u001b[0;34m\u001b[0m\u001b[0;34m\u001b[0m\u001b[0m\n\u001b[0;32m----> 5\u001b[0;31m \u001b[0mten_con\u001b[0m\u001b[0;34m[\u001b[0m\u001b[0;36m2\u001b[0m\u001b[0;34m]\u001b[0m\u001b[0;34m.\u001b[0m\u001b[0massign\u001b[0m\u001b[0;34m(\u001b[0m\u001b[0;36m27\u001b[0m\u001b[0;34m)\u001b[0m \u001b[0;31m## This will generate an error, since the constant tensors are immutable.\u001b[0m\u001b[0;34m\u001b[0m\u001b[0;34m\u001b[0m\u001b[0m\n\u001b[0m\u001b[1;32m      6\u001b[0m \u001b[0mprint\u001b[0m\u001b[0;34m(\u001b[0m\u001b[0mten_con\u001b[0m\u001b[0;34m.\u001b[0m\u001b[0mnumpy\u001b[0m\u001b[0;34m(\u001b[0m\u001b[0;34m)\u001b[0m\u001b[0;34m)\u001b[0m\u001b[0;34m\u001b[0m\u001b[0;34m\u001b[0m\u001b[0m\n",
            "\u001b[0;32m/usr/local/lib/python3.10/dist-packages/tensorflow/python/framework/tensor.py\u001b[0m in \u001b[0;36m__getattr__\u001b[0;34m(self, name)\u001b[0m\n\u001b[1;32m    259\u001b[0m         \u001b[0mtf\u001b[0m\u001b[0;34m.\u001b[0m\u001b[0mexperimental\u001b[0m\u001b[0;34m.\u001b[0m\u001b[0mnumpy\u001b[0m\u001b[0;34m.\u001b[0m\u001b[0mexperimental_enable_numpy_behavior\u001b[0m\u001b[0;34m(\u001b[0m\u001b[0;34m)\u001b[0m\u001b[0;34m\u001b[0m\u001b[0;34m\u001b[0m\u001b[0m\n\u001b[1;32m    260\u001b[0m       \"\"\")\n\u001b[0;32m--> 261\u001b[0;31m     \u001b[0mself\u001b[0m\u001b[0;34m.\u001b[0m\u001b[0m__getattribute__\u001b[0m\u001b[0;34m(\u001b[0m\u001b[0mname\u001b[0m\u001b[0;34m)\u001b[0m\u001b[0;34m\u001b[0m\u001b[0;34m\u001b[0m\u001b[0m\n\u001b[0m\u001b[1;32m    262\u001b[0m \u001b[0;34m\u001b[0m\u001b[0m\n\u001b[1;32m    263\u001b[0m   \u001b[0;34m@\u001b[0m\u001b[0mproperty\u001b[0m\u001b[0;34m\u001b[0m\u001b[0;34m\u001b[0m\u001b[0m\n",
            "\u001b[0;31mAttributeError\u001b[0m: 'tensorflow.python.framework.ops.EagerTensor' object has no attribute 'assign'"
          ]
        }
      ]
    },
    {
      "cell_type": "markdown",
      "source": [
        "3) Describe the process of matrix addition, multiplication, and element-wise operations in TensorFlow.\n",
        "\n",
        "\n",
        "In TensorFlow, matrix operations, including addition, multiplication, and element-wise operations, are fundamental operations that involve manipulating tensors.\n",
        "\n",
        "1. Matrix Addition:\n",
        "Matrix addition involves adding corresponding elements of two matrices of the same shape. In TensorFlow, you can use the tf.add() function for this operation."
      ],
      "metadata": {
        "id": "KAkWwrSYcrhS"
      }
    },
    {
      "cell_type": "code",
      "source": [
        "matrix_1 = tf.constant([[1,2], [3,4]])\n",
        "matrix_2 = tf.constant([[5,6], [7,8]])\n",
        "\n",
        "print(\"matrix 1:\\n\", matrix_1.numpy())\n",
        "print()\n",
        "print(\"matrix 2:\\n\", matrix_2.numpy())\n",
        "print()\n",
        "print(\"Addition of Two matrix:\\n\", tf.add(matrix_1, matrix_2).numpy())"
      ],
      "metadata": {
        "colab": {
          "base_uri": "https://localhost:8080/"
        },
        "id": "J8ssv-kSdMYP",
        "outputId": "0afab74d-7a9a-4d6a-d2ed-f0916dcf210c"
      },
      "execution_count": null,
      "outputs": [
        {
          "output_type": "stream",
          "name": "stdout",
          "text": [
            "matrix 1:\n",
            " [[1 2]\n",
            " [3 4]]\n",
            "\n",
            "matrix 2:\n",
            " [[5 6]\n",
            " [7 8]]\n",
            "\n",
            "Addition of Two matrix:\n",
            " [[ 6  8]\n",
            " [10 12]]\n"
          ]
        }
      ]
    },
    {
      "cell_type": "markdown",
      "source": [
        "2. Matrix Multiplication:\n",
        "Matrix multiplication involves multiplying elements of one matrix with corresponding elements of the other matrix and summing the results. In TensorFlow, you can use the tf.matmul() function for matrix multiplication."
      ],
      "metadata": {
        "id": "2OkJnfadd_mz"
      }
    },
    {
      "cell_type": "code",
      "source": [
        "matrix_1 = tf.constant([[1,2], [3,4]])\n",
        "matrix_2 = tf.constant([[5,6], [7,8]])\n",
        "\n",
        "print(\"matrix 1:\\n\", matrix_1.numpy())\n",
        "print()\n",
        "print(\"matrix 2:\\n\", matrix_2.numpy())\n",
        "print()\n",
        "print(\"Addition of Two matrix:\\n\", tf.matmul(matrix_1, matrix_2).numpy())"
      ],
      "metadata": {
        "colab": {
          "base_uri": "https://localhost:8080/"
        },
        "id": "gv7ZSfDieEQT",
        "outputId": "e4a3e10c-ff25-4ce4-a45c-993bb0dff8d9"
      },
      "execution_count": null,
      "outputs": [
        {
          "output_type": "stream",
          "name": "stdout",
          "text": [
            "matrix 1:\n",
            " [[1 2]\n",
            " [3 4]]\n",
            "\n",
            "matrix 2:\n",
            " [[5 6]\n",
            " [7 8]]\n",
            "\n",
            "Addition of Two matrix:\n",
            " [[19 22]\n",
            " [43 50]]\n"
          ]
        }
      ]
    },
    {
      "cell_type": "markdown",
      "source": [
        "3. Element-wise Operations:\n",
        "Element-wise operations involve performing an operation independently on each element of a matrix. Common element-wise operations include addition, subtraction, multiplication, division, exponentiation, etc. TensorFlow provides element-wise operations through standard arithmetic functions."
      ],
      "metadata": {
        "id": "fXs9X6QpeNUZ"
      }
    },
    {
      "cell_type": "code",
      "source": [
        "matrix_3 = tf.constant([[10, 2], [9, 12]])\n",
        "\n",
        "## Let's do squaring of each element of a tensor\n",
        "print(\"matrix 3:\\n\", matrix_3.numpy())\n",
        "print()\n",
        "print(\"Square of a matrix:\\n\", tf.square(matrix_3).numpy())"
      ],
      "metadata": {
        "id": "igSqP_I5eWGE",
        "colab": {
          "base_uri": "https://localhost:8080/"
        },
        "outputId": "92bbc144-8121-4c6a-a815-5099f9d426ee"
      },
      "execution_count": 31,
      "outputs": [
        {
          "output_type": "stream",
          "name": "stdout",
          "text": [
            "matrix 3:\n",
            " [[10  2]\n",
            " [ 9 12]]\n",
            "\n",
            "Square of a matrix:\n",
            " [[100   4]\n",
            " [ 81 144]]\n"
          ]
        }
      ]
    },
    {
      "cell_type": "code",
      "source": [
        "import tensorflow as tf"
      ],
      "metadata": {
        "id": "fVYVwhGeQyoE"
      },
      "execution_count": 30,
      "outputs": []
    },
    {
      "cell_type": "markdown",
      "source": [
        "### <b>PART 2: Practical Implementation</b>\n",
        "\n",
        "**Talk 1: Creating and Manipulating Matricek**\n",
        "\n",
        "1) Create a normal matrix A with dimensions 3x3, using TensorFlow's random_normal function. Display the\n",
        "values of matrix A."
      ],
      "metadata": {
        "id": "9bwapD9hSVKO"
      }
    },
    {
      "cell_type": "code",
      "source": [
        "## Creating a normal matrix of dimensions 2x2 from the normal distribution.\n",
        "random_normal = tf.random.Generator.from_seed(32)\n",
        "A = random_normal.normal(shape=(3,3))\n",
        "\n",
        "print(\"Elements of matrix A:\\n\",A.numpy())"
      ],
      "metadata": {
        "id": "ZsOP5hZuRIKY",
        "colab": {
          "base_uri": "https://localhost:8080/"
        },
        "outputId": "04bd6fbd-7cdd-4a09-977e-7aebc877f10f"
      },
      "execution_count": null,
      "outputs": [
        {
          "output_type": "stream",
          "name": "stdout",
          "text": [
            "Elements of matrix A:\n",
            " [[ 0.7901182   1.585549    0.4356279 ]\n",
            " [ 0.2364518  -0.1589871   1.302304  ]\n",
            " [ 0.9592239   0.85874265 -1.5181769 ]]\n"
          ]
        }
      ]
    },
    {
      "cell_type": "markdown",
      "source": [
        "2) Create a Gaussian matrix B with dimensions 4x4, using TensorFlow's truncated_normal function. Display the values of matrix B."
      ],
      "metadata": {
        "id": "H79aRY8-ScMW"
      }
    },
    {
      "cell_type": "code",
      "source": [
        "## tf.truncated_normal() function discard or re-draw the values which are more than two stddev from the mean.\n",
        "tf.random.set_seed(32)\n",
        "B = tf.random.truncated_normal(shape=(4,4)) ## Default value of mean and stddev is 0.0 and 1.0.\n",
        "\n",
        "print(\"Elements of matrix B:\\n\",B.numpy())"
      ],
      "metadata": {
        "colab": {
          "base_uri": "https://localhost:8080/"
        },
        "id": "wCZfwQUvRYm2",
        "outputId": "48d53de7-6aa9-4bc2-d4e2-d5c8c8c32794"
      },
      "execution_count": null,
      "outputs": [
        {
          "output_type": "stream",
          "name": "stdout",
          "text": [
            "Elements of matrix B:\n",
            " [[ 0.82033765  0.73500305  1.0454717   0.702631  ]\n",
            " [ 0.4472365   0.36746743  0.6453506   1.2794147 ]\n",
            " [-0.75372434 -0.176359   -0.10414879  0.74450344]\n",
            " [-0.67275274 -1.7532346   0.9149069   0.45171866]]\n"
          ]
        }
      ]
    },
    {
      "cell_type": "markdown",
      "source": [
        "3) Create a matrix C with dimensions 2x2, where the values are drawn from a normal distribution with a mean of 3 and a standard deviation of 0.5, using TensorFlow's random.normal function. Display the values\n",
        "of matrix C."
      ],
      "metadata": {
        "id": "tW37NIWeTXdQ"
      }
    },
    {
      "cell_type": "code",
      "source": [
        "random_normal = tf.random.Generator.from_seed(32)\n",
        "C = random_normal.normal(shape=(2,2), mean=3, stddev=0.5)\n",
        "\n",
        "print(\"Elements of matrix C:\\n\",C.numpy())"
      ],
      "metadata": {
        "colab": {
          "base_uri": "https://localhost:8080/"
        },
        "id": "Y_qFm7NsTBBh",
        "outputId": "ae8cd806-251e-4e3a-ac1a-5143c8262953"
      },
      "execution_count": null,
      "outputs": [
        {
          "output_type": "stream",
          "name": "stdout",
          "text": [
            "Elements of matrix C:\n",
            " [[3.395059  3.7927744]\n",
            " [3.217814  3.1182258]]\n"
          ]
        }
      ]
    },
    {
      "cell_type": "markdown",
      "source": [
        "4) Perform matrix addition between matrix A and matrix B, and store the result in matrix D."
      ],
      "metadata": {
        "id": "NwS0BaV4UCc2"
      }
    },
    {
      "cell_type": "code",
      "source": [
        "## Over here, we will get a error as the dimensions of previously created matrices, A and B are not same.\n",
        "## Let's create other matrices with the same method but having same dimensions\n",
        "\n",
        "random_normal = tf.random.Generator.from_seed(32)\n",
        "A = random_normal.normal(shape=(2,3))\n",
        "\n",
        "print(\"Elements of matrix A:\\n\",A.numpy())\n",
        "print()\n",
        "\n",
        "tf.random.set_seed(32)\n",
        "B = tf.random.truncated_normal(shape=(2,3))\n",
        "\n",
        "print(\"Elements of matrix B:\\n\",B.numpy())\n",
        "print()\n",
        "\n",
        "D = tf.add(A, B)\n",
        "print(\"Elements of D is:\\n\",D.numpy())"
      ],
      "metadata": {
        "colab": {
          "base_uri": "https://localhost:8080/"
        },
        "id": "5tiDnExqT4Qq",
        "outputId": "1d08562b-8a50-4b87-ef01-6c2f0229a15f"
      },
      "execution_count": 33,
      "outputs": [
        {
          "output_type": "stream",
          "name": "stdout",
          "text": [
            "Elements of matrix A:\n",
            " [[ 0.7901182  1.585549   0.4356279]\n",
            " [ 0.2364518 -0.1589871  1.302304 ]]\n",
            "\n",
            "Elements of matrix B:\n",
            " [[0.82033765 0.73500305 1.0454717 ]\n",
            " [0.702631   0.4472365  0.36746743]]\n",
            "\n",
            "Elements of D is:\n",
            " [[1.6104559 2.320552  1.4810996]\n",
            " [0.9390828 0.2882494 1.6697714]]\n"
          ]
        }
      ]
    },
    {
      "cell_type": "markdown",
      "source": [
        "5) Perform matrix multiplication between matrix C and matrix D, and store the result in matrix E."
      ],
      "metadata": {
        "id": "fKmlXoEVVByb"
      }
    },
    {
      "cell_type": "code",
      "source": [
        "E = tf.matmul(C, D)\n",
        "\n",
        "print(\"Elements of E:\\n\", E.numpy())"
      ],
      "metadata": {
        "id": "3STWQVLcUngy",
        "colab": {
          "base_uri": "https://localhost:8080/"
        },
        "outputId": "76875999-9ef6-4721-89cc-fa57d171d479"
      },
      "execution_count": 35,
      "outputs": [
        {
          "output_type": "stream",
          "name": "stdout",
          "text": [
            "Elements of E:\n",
            " [[ 9.029322   8.971677  11.361487 ]\n",
            " [ 8.11042    8.3659315  9.972628 ]]\n"
          ]
        }
      ]
    },
    {
      "cell_type": "markdown",
      "source": [
        "**Talk 2: Performing Additional Matrix Operations**\n",
        "\n",
        "1) Create a matrix F with dimensions 2x2, initialized with random values using TensorFlow's random_uniform function."
      ],
      "metadata": {
        "id": "SAh-GJKFVUDR"
      }
    },
    {
      "cell_type": "code",
      "source": [
        "## tensorflow.random.uniform() function is used to generate a tensor of given shape from the uniform distribution.\n",
        "random_uniform = tf.random.Generator.from_seed(32)\n",
        "F = random_uniform.uniform(shape=(2,2))"
      ],
      "metadata": {
        "id": "4jBb5_ixVZKK"
      },
      "execution_count": null,
      "outputs": []
    },
    {
      "cell_type": "markdown",
      "source": [
        "2) Calculate the transpose of matrix F and store the result in matrix G."
      ],
      "metadata": {
        "id": "Eylv2AFCWG2F"
      }
    },
    {
      "cell_type": "code",
      "source": [
        "print(\"Before calculating transpose:\\n\", F.numpy())\n",
        "G = tf.transpose(F)\n",
        "print()\n",
        "print(\"After calculating transpose:\\n\", G.numpy())"
      ],
      "metadata": {
        "colab": {
          "base_uri": "https://localhost:8080/"
        },
        "id": "ki9cudoPWEYG",
        "outputId": "f13f966c-e3fa-4539-f94a-222fd113ee83"
      },
      "execution_count": null,
      "outputs": [
        {
          "output_type": "stream",
          "name": "stdout",
          "text": [
            "Before calculating transpose:\n",
            " [[0.20822704 0.07357836]\n",
            " [0.88440466 0.17085445]]\n",
            "\n",
            "After calculating transpose:\n",
            " [[0.20822704 0.88440466]\n",
            " [0.07357836 0.17085445]]\n"
          ]
        }
      ]
    },
    {
      "cell_type": "markdown",
      "source": [
        "3) Calculate the element-wise exponential of matrix F and store the result in matrix H."
      ],
      "metadata": {
        "id": "2RYEKzuzWivN"
      }
    },
    {
      "cell_type": "code",
      "source": [
        "## Element-Wise Primitive Operations are performed on each elements of a tensor.\n",
        "print(\"Before performing element-wise exp:\\n\", F.numpy())\n",
        "H = tf.exp(F)\n",
        "print()\n",
        "print(\"After performing element-wise exp:\\n\", H.numpy())"
      ],
      "metadata": {
        "colab": {
          "base_uri": "https://localhost:8080/"
        },
        "id": "idhNy4WoWY4V",
        "outputId": "81d85c28-ee15-4e99-c86d-8c3d02da6d80"
      },
      "execution_count": null,
      "outputs": [
        {
          "output_type": "stream",
          "name": "stdout",
          "text": [
            "Before performing element-wise exp:\n",
            " [[0.20822704 0.07357836]\n",
            " [0.88440466 0.17085445]]\n",
            "\n",
            "After performing element-wise exp:\n",
            " [[1.2314928 1.0763528]\n",
            " [2.4215424 1.186318 ]]\n"
          ]
        }
      ]
    },
    {
      "cell_type": "markdown",
      "source": [
        "4) Create a matrix I by concatenating matrix F and matrix G horizontally."
      ],
      "metadata": {
        "id": "gIBkjBn0XhtZ"
      }
    },
    {
      "cell_type": "code",
      "source": [
        "print(\"Matrix F:\\n\", F.numpy())\n",
        "print()\n",
        "print(\"Matrix G:\\n\", G.numpy())\n",
        "I = tf.concat([F, G], axis=1)\n",
        "print()\n",
        "print(\"Result of concatination:\\n\", I.numpy())"
      ],
      "metadata": {
        "colab": {
          "base_uri": "https://localhost:8080/"
        },
        "id": "_OyvDTGHXW4M",
        "outputId": "df237f56-b329-4570-9f8d-92eb3c74f826"
      },
      "execution_count": null,
      "outputs": [
        {
          "output_type": "stream",
          "name": "stdout",
          "text": [
            "Matrix F:\n",
            " [[0.20822704 0.07357836]\n",
            " [0.88440466 0.17085445]]\n",
            "\n",
            "Matrix G:\n",
            " [[0.20822704 0.88440466]\n",
            " [0.07357836 0.17085445]]\n",
            "\n",
            "Result of concatination:\n",
            " [[0.20822704 0.07357836 0.20822704 0.88440466]\n",
            " [0.88440466 0.17085445 0.07357836 0.17085445]]\n"
          ]
        }
      ]
    },
    {
      "cell_type": "markdown",
      "source": [
        "5) Create a matrix J by concatenating matrix F and matrix H vertically."
      ],
      "metadata": {
        "id": "dDHNZTcVYYjS"
      }
    },
    {
      "cell_type": "code",
      "source": [
        "print(\"Matrix F:\\n\", F.numpy())\n",
        "print()\n",
        "print(\"Matrix H:\\n\", H.numpy())\n",
        "J = tf.concat([F, H], axis=0)\n",
        "print()\n",
        "print(\"Result of concatination:\\n\", J.numpy())"
      ],
      "metadata": {
        "colab": {
          "base_uri": "https://localhost:8080/"
        },
        "id": "GveGJ2V-YOLR",
        "outputId": "1ccd7aa4-d5cb-4726-dc28-3dd213443abd"
      },
      "execution_count": null,
      "outputs": [
        {
          "output_type": "stream",
          "name": "stdout",
          "text": [
            "Matrix F:\n",
            " [[0.20822704 0.07357836]\n",
            " [0.88440466 0.17085445]]\n",
            "\n",
            "Matrix H:\n",
            " [[1.2314928 1.0763528]\n",
            " [2.4215424 1.186318 ]]\n",
            "\n",
            "Result of concatination:\n",
            " [[0.20822704 0.07357836]\n",
            " [0.88440466 0.17085445]\n",
            " [1.2314928  1.0763528 ]\n",
            " [2.4215424  1.186318  ]]\n"
          ]
        }
      ]
    },
    {
      "cell_type": "code",
      "source": [],
      "metadata": {
        "id": "QgaznMq2YhTe"
      },
      "execution_count": null,
      "outputs": []
    }
  ]
}