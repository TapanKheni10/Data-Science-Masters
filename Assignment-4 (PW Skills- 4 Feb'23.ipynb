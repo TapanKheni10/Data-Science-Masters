{
 "cells": [
  {
   "cell_type": "markdown",
   "id": "4c794516-2364-492d-b82c-4aed2e761bf9",
   "metadata": {},
   "source": [
    "1) Which keyword is used to create a function? Create a function to return a list of odd numbers in the\n",
    "range of 1 to 25.\n",
    "\n",
    "- 'def' keyword is used to create a function."
   ]
  },
  {
   "cell_type": "code",
   "execution_count": 1,
   "id": "bded5e62-5818-4126-b78c-2f5a8ae8d053",
   "metadata": {},
   "outputs": [
    {
     "data": {
      "text/plain": [
       "[1, 3, 5, 7, 9, 11, 13, 15, 17, 19, 21, 23, 25]"
      ]
     },
     "execution_count": 1,
     "metadata": {},
     "output_type": "execute_result"
    }
   ],
   "source": [
    "def list_odd_number():\n",
    "    return [x for x in range(1,26) if x%2 != 0]\n",
    "list_odd_number()"
   ]
  },
  {
   "cell_type": "markdown",
   "id": "2c4befbd-6ab3-4cb8-b9f7-205c60791ae4",
   "metadata": {},
   "source": [
    "2) Why *args and **kwargs is used in some functions? Create a function each for *args and **kwargs to\n",
    "demonstrate their use.\n",
    "- *args is basically used to take n many numbers of inputs at runtime.\n",
    "- in a similar manner **kwargs is used to take n many numbers of 'Key-Value' pairs at runtime."
   ]
  },
  {
   "cell_type": "code",
   "execution_count": 3,
   "id": "f6423522-33cf-4869-841a-24e5d94e7e48",
   "metadata": {},
   "outputs": [
    {
     "name": "stdout",
     "output_type": "stream",
     "text": [
      "10\n",
      "167.12\n"
     ]
    }
   ],
   "source": [
    "def sum_(*args):\n",
    "    '''Please give valid numeric numbers'''\n",
    "    return sum(args)\n",
    "print(sum_(1,2,3,4))\n",
    "print(sum_(36.56,2,3,7,8,10,100.56))"
   ]
  },
  {
   "cell_type": "code",
   "execution_count": 5,
   "id": "9383ab27-092e-461c-a2a8-6a5ea69c10cb",
   "metadata": {},
   "outputs": [
    {
     "name": "stdout",
     "output_type": "stream",
     "text": [
      "(dict_values([34, 'Pwskills', 56.9, False]), dict_keys(['a', 'b', 'c', 'd']))\n"
     ]
    }
   ],
   "source": [
    "def test(**kwargs):\n",
    "    return kwargs.values(), kwargs.keys()\n",
    "print(test(a=34,b=\"Pwskills\",c=56.90,d=False))"
   ]
  },
  {
   "cell_type": "markdown",
   "id": "88dd6286-9bf4-457a-b825-4ac39135a030",
   "metadata": {},
   "source": [
    "3) What is an iterator in python? Name the method used to initialise the iterator object and the method\n",
    "used for iteration. Use these methods to print the first five elements of the given list [2, 4, 6, 8, 10, 12, 14, 16,\n",
    "18, 20].\n",
    "\n",
    "- Iterator in Python is an object that is used to iterate over iterable objects like lists, tuples, dicts, and sets.\n",
    "- The iterator object is initialized using the iter() method. It uses the next() method for iteration."
   ]
  },
  {
   "cell_type": "code",
   "execution_count": 3,
   "id": "35817bec-c5cd-47b9-ad57-c8f0b26f3f97",
   "metadata": {},
   "outputs": [
    {
     "name": "stdout",
     "output_type": "stream",
     "text": [
      "First five elements of given lists: \n",
      "2 4 6 8 10 "
     ]
    }
   ],
   "source": [
    "lst = [2,4,6,8,10,12,14,16,18,20]\n",
    "iterator_obj = iter(lst)\n",
    "print(\"First five elements of given lists: \")\n",
    "for i in range(0,5):\n",
    "    print(next(iterator_obj), end=' ')"
   ]
  },
  {
   "cell_type": "markdown",
   "id": "0b17e92f-bb65-46ce-8b6b-0969ed03e798",
   "metadata": {},
   "source": [
    "4) What is a generator function in python? Why yield keyword is used? Give an example of a generator\n",
    "function.\n",
    "- A generator-function is defined like a normal function, but whenever it needs to generate a value, it does so with the yield keyword rather than return. If the body of a def contains yield, the function automatically becomes a generator function. "
   ]
  },
  {
   "cell_type": "code",
   "execution_count": 5,
   "id": "e0cc9a1f-b8fd-4188-980c-870483d4a444",
   "metadata": {},
   "outputs": [
    {
     "name": "stdout",
     "output_type": "stream",
     "text": [
      "2 4 6 8 10 12 14 16 18 20 "
     ]
    }
   ],
   "source": [
    "# Find first n even numbers \n",
    "def generator_func(n):\n",
    "    a = 2\n",
    "    for x in range(n):\n",
    "        yield a\n",
    "        a = a+2\n",
    "\n",
    "# generator_func(10)\n",
    "for x in generator_func(10):\n",
    "    print(x, end=' ')"
   ]
  },
  {
   "cell_type": "markdown",
   "id": "376af365-fc11-429f-8693-9adae380c0b2",
   "metadata": {},
   "source": [
    "5) Create a generator function for prime numbers less than 1000. Use the next() method to print the\n",
    "first 20 prime numbers."
   ]
  },
  {
   "cell_type": "code",
   "execution_count": 26,
   "id": "c8c46acd-4871-4ba7-8095-1ab39409c25d",
   "metadata": {},
   "outputs": [
    {
     "data": {
      "text/plain": [
       "list_iterator"
      ]
     },
     "execution_count": 26,
     "metadata": {},
     "output_type": "execute_result"
    }
   ],
   "source": [
    "def isPrime(n):\n",
    "    for i in range(2,round((n/2)+1)):\n",
    "        if n%i == 0:\n",
    "            return False\n",
    "    return True\n",
    "def prime_num():\n",
    "    a=2\n",
    "    for x in range(1000):\n",
    "        if isPrime(a):\n",
    "            yield a\n",
    "            a = a + 1\n",
    "        else:\n",
    "            a = a + 1\n",
    "            continue\n",
    "obj_iterator = iter(list(prime_num()))\n",
    "type(obj_iterator)"
   ]
  },
  {
   "cell_type": "code",
   "execution_count": 27,
   "id": "2732cecf-a88d-41dd-bf97-fd01555b4a74",
   "metadata": {},
   "outputs": [
    {
     "name": "stdout",
     "output_type": "stream",
     "text": [
      "2 3 5 7 11 13 17 19 23 29 31 37 41 43 47 53 59 61 67 71 "
     ]
    }
   ],
   "source": [
    "for x in range(20):\n",
    "    print(next(obj_iterator), end=' ')\n",
    "# Don't try to run this code again because next time we won't get first 20 prime numbers."
   ]
  },
  {
   "cell_type": "code",
   "execution_count": null,
   "id": "ddd14774-9dbd-491c-b826-088a3c807db4",
   "metadata": {},
   "outputs": [],
   "source": []
  }
 ],
 "metadata": {
  "kernelspec": {
   "display_name": "Python 3 (ipykernel)",
   "language": "python",
   "name": "python3"
  },
  "language_info": {
   "codemirror_mode": {
    "name": "ipython",
    "version": 3
   },
   "file_extension": ".py",
   "mimetype": "text/x-python",
   "name": "python",
   "nbconvert_exporter": "python",
   "pygments_lexer": "ipython3",
   "version": "3.10.8"
  }
 },
 "nbformat": 4,
 "nbformat_minor": 5
}
